{
  "nbformat": 4,
  "nbformat_minor": 0,
  "metadata": {
    "colab": {
      "provenance": [],
      "authorship_tag": "ABX9TyNH+S//+g2LxzDZqoSQY8cj",
      "include_colab_link": true
    },
    "kernelspec": {
      "name": "python3",
      "display_name": "Python 3"
    },
    "language_info": {
      "name": "python"
    }
  },
  "cells": [
    {
      "cell_type": "markdown",
      "metadata": {
        "id": "view-in-github",
        "colab_type": "text"
      },
      "source": [
        "<a href=\"https://colab.research.google.com/github/Ishita2patel/CIND820-Project/blob/main/Crossvalidation.ipynb\" target=\"_parent\"><img src=\"https://colab.research.google.com/assets/colab-badge.svg\" alt=\"Open In Colab\"/></a>"
      ]
    },
    {
      "cell_type": "code",
      "source": [
        "pip install memory-profiler"
      ],
      "metadata": {
        "colab": {
          "base_uri": "https://localhost:8080/"
        },
        "id": "ILCFzHfNB8tW",
        "outputId": "f603dc0c-b37c-42a7-d43d-b69bccd129c1"
      },
      "execution_count": 2,
      "outputs": [
        {
          "output_type": "stream",
          "name": "stdout",
          "text": [
            "Collecting memory-profiler\n",
            "  Downloading memory_profiler-0.61.0-py3-none-any.whl.metadata (20 kB)\n",
            "Requirement already satisfied: psutil in /usr/local/lib/python3.10/dist-packages (from memory-profiler) (5.9.5)\n",
            "Downloading memory_profiler-0.61.0-py3-none-any.whl (31 kB)\n",
            "Installing collected packages: memory-profiler\n",
            "Successfully installed memory-profiler-0.61.0\n"
          ]
        }
      ]
    },
    {
      "cell_type": "code",
      "execution_count": 3,
      "metadata": {
        "id": "5urgE9UEBqd_"
      },
      "outputs": [],
      "source": [
        "#Data processing\n",
        "from sklearn.preprocessing import OneHotEncoder\n",
        "from sklearn.preprocessing import LabelEncoder\n",
        "\n",
        "from imblearn.over_sampling import SMOTE\n",
        "\n",
        "from sklearn.model_selection import train_test_split\n",
        "from sklearn.compose import ColumnTransformer\n",
        "\n",
        "#Model performance metrics\n",
        "from time import process_time\n",
        "from memory_profiler import profile\n",
        "from sklearn.metrics import confusion_matrix\n",
        "from sklearn.metrics import classification_report\n",
        "\n",
        "#Feature selection and models\n",
        "from sklearn.tree import DecisionTreeClassifier\n",
        "from sklearn.ensemble import RandomForestClassifier\n",
        "from sklearn.linear_model import LogisticRegression\n",
        "from sklearn.feature_selection import RFE\n",
        "\n",
        "#Data scaling\n",
        "from sklearn.preprocessing import MinMaxScaler\n",
        "from sklearn.preprocessing import StandardScaler\n",
        "%load_ext memory_profiler"
      ]
    },
    {
      "cell_type": "markdown",
      "source": [
        "Models"
      ],
      "metadata": {
        "id": "fLAZ1Cl2CBmv"
      }
    },
    {
      "cell_type": "code",
      "source": [
        "#Random Forest Model\n",
        "def RFClassifier(X_train, y_train, X_test, y_test):\n",
        "  #Initialize the Random Forest Classifier\n",
        "  forest_raw_imbalanced = RandomForestClassifier(n_estimators = 100)\n",
        "\n",
        "  #Time Measurement\n",
        "  start_time = process_time()\n",
        "\n",
        "  #Fit the classifier to the data\n",
        "  forest_raw_imbalanced.fit(X_train, y_train)\n",
        "\n",
        "  #Predict new Data\n",
        "  y_pred = forest_raw_imbalanced.predict(X_test)\n",
        "\n",
        "  #Time Measurement\n",
        "  end_time = process_time()\n",
        "\n",
        "  #Results\n",
        "  cr = classification_report(y_test, y_pred)\n",
        "  cm = confusion_matrix(y_test, y_pred)\n",
        "  time = end_time - start_time\n",
        "  print(cr)\n",
        "  print(cm)\n",
        "  print(time)"
      ],
      "metadata": {
        "id": "sJIUPtLhB5U8"
      },
      "execution_count": 4,
      "outputs": []
    },
    {
      "cell_type": "markdown",
      "source": [
        "Modified Models to include SMOTE and standardization"
      ],
      "metadata": {
        "id": "9mDn7PO1CHz6"
      }
    },
    {
      "cell_type": "code",
      "source": [
        "#Random Forest function\n",
        "def RFClassifierMOD(X_train, y_train, X_test, y_test, numeric_attributes, cat_attributes):\n",
        "  #Initialize the DecisionTreeClassifier\n",
        "  forest_raw_imbalanced = RandomForestClassifier(n_estimators = 100)\n",
        "\n",
        "  #Time Measurement\n",
        "  start_time = process_time()\n",
        "\n",
        "  #Data preprocessing\n",
        "  smote = SMOTE()\n",
        "  X_train_smote, y_train_smote = smote.fit_resample(X_train, y_train)\n",
        "\n",
        "  # Subset the numeric attributes\n",
        "  X_train_smote_numeric = X_train_smote[numeric_attributes]\n",
        "  X_test_numeric = X_test[numeric_attributes]\n",
        "\n",
        "  scaler = StandardScaler()\n",
        "  X_train_smote_S = scaler.fit_transform(X_train_smote_numeric)\n",
        "  X_test_numeric_S = scaler.transform(X_test_numeric)\n",
        "\n",
        "  # Concatenate the standardized numeric attributes with the categorical attributes\n",
        "  X_train_combined = np.concatenate((X_train_smote_S, X_train_smote[cat_attributes]), axis=1)\n",
        "  X_test_combined = np.concatenate((X_test_numeric_S, X_test[cat_attributes]), axis=1)\n",
        "\n",
        "  #Fit the Classifier to the data\n",
        "  forest_raw_imbalanced.fit(X_train_combined, y_train_smote)\n",
        "\n",
        "  #Predict new Data\n",
        "  y_pred = forest_raw_imbalanced.predict(X_test_combined)\n",
        "\n",
        "  #Time Measurement\n",
        "  end_time = process_time()\n",
        "\n",
        "  #Results\n",
        "  cr = classification_report(y_test, y_pred)\n",
        "  cm = confusion_matrix(y_test, y_pred)\n",
        "  time = end_time - start_time\n",
        "  print(cr)\n",
        "  print(cm)\n",
        "  print(time)"
      ],
      "metadata": {
        "id": "oUUHTbivCI7f"
      },
      "execution_count": 5,
      "outputs": []
    },
    {
      "cell_type": "markdown",
      "source": [
        "Crossvalidation Models"
      ],
      "metadata": {
        "id": "KXKRm6DnCO39"
      }
    },
    {
      "cell_type": "code",
      "source": [
        "from sklearn.model_selection import cross_val_score\n",
        "from sklearn.model_selection import KFold\n",
        "from sklearn.model_selection import TimeSeriesSplit"
      ],
      "metadata": {
        "id": "XB7yCGQcCPje"
      },
      "execution_count": 6,
      "outputs": []
    },
    {
      "cell_type": "markdown",
      "source": [
        "K-Fold Validation Models"
      ],
      "metadata": {
        "id": "s9X4rgneCSIT"
      }
    },
    {
      "cell_type": "code",
      "source": [
        "#Random Forest Function\n",
        "def RFClassifierKFold(X_train, y_train, X_test, y_test, numeric_attributes, cat_attributes, num_folds):\n",
        "  #Initialize the DecisionTreeClassifier\n",
        "  forest_raw_imbalanced = RandomForestClassifier(n_estimators = 100)\n",
        "\n",
        "  #Time Measurement\n",
        "  start_time = process_time()\n",
        "\n",
        "  #Specify number of folds (k) for cross validation\n",
        "  kfold = KFold(n_splits = num_folds)\n",
        "\n",
        "  results = cross_val_score(forest_raw_imbalanced, X_train, y_train, cv = kfold)\n",
        "\n",
        "  #Lists for metrics\n",
        "  confusion_matrices = []\n",
        "  classification_reports = []\n",
        "\n",
        "  all_predictions = []\n",
        "  all_true_labels = []\n",
        "\n",
        "  for train_index, val_index in kfold.split(X_train):\n",
        "    X_train_fold_values, X_val_fold_values = X_train.values[train_index], X_train.values[val_index]\n",
        "    y_train_fold_values, y_val_fold_values = y_train.values[train_index], y_train.values[val_index]\n",
        "\n",
        "    X_train_fold = pd.DataFrame(X_train_fold_values, columns=X_train.columns)\n",
        "    X_val_fold = pd.DataFrame(X_val_fold_values, columns=X_train.columns)\n",
        "    y_train_fold = pd.Series(y_train_fold_values, index=X_train_fold.index)\n",
        "    y_val_fold = pd.Series(y_val_fold_values, index=X_val_fold.index)\n",
        "\n",
        "    X_train_numeric = X_train_fold.loc[:, numeric_attributes]\n",
        "    X_val_numeric = X_val_fold.loc[:, numeric_attributes]\n",
        "\n",
        "    scaler = StandardScaler()\n",
        "    X_train_smote_S = scaler.fit_transform(X_train_numeric)\n",
        "    X_test_numeric_S = scaler.transform(X_val_numeric)\n",
        "\n",
        "    # Concatenate the standardized numeric attributes with the categorical attributes\n",
        "    X_train_combined = np.concatenate((X_train_smote_S, X_train_fold[cat_attributes]), axis=1)\n",
        "    X_test_combined = np.concatenate((X_test_numeric_S, X_val_fold[cat_attributes]), axis=1)\n",
        "\n",
        "    #Data preprocessing\n",
        "    smote = SMOTE()\n",
        "    X_train_fold_SMOTE, y_train_fold_SMOTE = smote.fit_resample(X_train_combined, y_train_fold)\n",
        "\n",
        "    #Fit the Classifier to the data\n",
        "    forest_raw_imbalanced.fit(X_train_combined, y_train_fold)\n",
        "\n",
        "    #Predict new Data\n",
        "    y_pred = forest_raw_imbalanced.predict(X_test_combined)\n",
        "\n",
        "    cr = classification_report(y_val_fold, y_pred)\n",
        "    classification_reports.append(cr)\n",
        "\n",
        "    cm = confusion_matrix(y_val_fold, y_pred)\n",
        "    confusion_matrices.append(cm)\n",
        "\n",
        "    all_predictions.extend(y_pred)\n",
        "    all_true_labels.extend(y_val_fold)\n",
        "\n",
        "  #Time Measurement\n",
        "  end_time = process_time()\n",
        "\n",
        "  time = end_time - start_time\n",
        "  summary_report = classification_report(all_true_labels, all_predictions)\n",
        "\n",
        "  \"\"\"\n",
        "  for fold in range(num_folds):\n",
        "    print(\"Confusion matrix for fold\", fold+1, \":\\n\", confusion_matrices[fold])\n",
        "    print(\"Classification report for fold\", fold+1, \":\\n\", classification_reports[fold])\n",
        "    print()\"\"\"\n",
        "\n",
        "  print(summary_report)\n",
        "  print(time)"
      ],
      "metadata": {
        "id": "LSQO96n8CUnB"
      },
      "execution_count": 7,
      "outputs": []
    },
    {
      "cell_type": "markdown",
      "source": [
        "Time-Series crossvalidation"
      ],
      "metadata": {
        "id": "nrRBEAJZCbmC"
      }
    },
    {
      "cell_type": "code",
      "source": [
        "#Random Forest Function\n",
        "def RFClassifierTS(X_train, y_train, X_test, y_test, numeric_attributes, cat_attributes, num_folds):\n",
        "  #Initialize the DecisionTreeClassifier\n",
        "  forest_raw_imbalanced = RandomForestClassifier(n_estimators = 100)\n",
        "\n",
        "  #Time Measurement\n",
        "  start_time = process_time()\n",
        "\n",
        "  #Specify number of folds (k) for cross validation\n",
        "  tscv = TimeSeriesSplit(n_splits = num_folds)\n",
        "\n",
        "  results = cross_val_score(forest_raw_imbalanced, X_train, y_train, cv = tscv)\n",
        "\n",
        "  #Lists for metrics\n",
        "  confusion_matrices = []\n",
        "  classification_reports = []\n",
        "\n",
        "  all_predictions = []\n",
        "  all_true_labels = []\n",
        "\n",
        "  for train_index, val_index in tscv.split(X_train):\n",
        "    X_train_fold_values, X_val_fold_values = X_train.values[train_index], X_train.values[val_index]\n",
        "    y_train_fold_values, y_val_fold_values = y_train.values[train_index], y_train.values[val_index]\n",
        "\n",
        "    X_train_fold = pd.DataFrame(X_train_fold_values, columns=X_train.columns)\n",
        "    X_val_fold = pd.DataFrame(X_val_fold_values, columns=X_train.columns)\n",
        "    y_train_fold = pd.Series(y_train_fold_values, index=X_train_fold.index)\n",
        "    y_val_fold = pd.Series(y_val_fold_values, index=X_val_fold.index)\n",
        "\n",
        "    X_train_numeric = X_train_fold.loc[:, numeric_attributes]\n",
        "    X_val_numeric = X_val_fold.loc[:, numeric_attributes]\n",
        "\n",
        "    scaler = StandardScaler()\n",
        "    X_train_smote_S = scaler.fit_transform(X_train_numeric)\n",
        "    X_test_numeric_S = scaler.transform(X_val_numeric)\n",
        "\n",
        "    # Concatenate the standardized numeric attributes with the categorical attributes\n",
        "    X_train_combined = np.concatenate((X_train_smote_S, X_train_fold[cat_attributes]), axis=1)\n",
        "    X_test_combined = np.concatenate((X_test_numeric_S, X_val_fold[cat_attributes]), axis=1)\n",
        "\n",
        "    #Data preprocessing\n",
        "    smote = SMOTE()\n",
        "    X_train_fold_SMOTE, y_train_fold_SMOTE = smote.fit_resample(X_train_combined, y_train_fold)\n",
        "\n",
        "    #Fit the Classifier to the data\n",
        "    forest_raw_imbalanced.fit(X_train_combined, y_train_fold)\n",
        "\n",
        "    #Predict new Data\n",
        "    y_pred = forest_raw_imbalanced.predict(X_test_combined)\n",
        "\n",
        "    cr = classification_report(y_val_fold, y_pred)\n",
        "    classification_reports.append(cr)\n",
        "\n",
        "    cm = confusion_matrix(y_val_fold, y_pred)\n",
        "    confusion_matrices.append(cm)\n",
        "\n",
        "    all_predictions.extend(y_pred)\n",
        "    all_true_labels.extend(y_val_fold)\n",
        "\n",
        "  #Time Measurement\n",
        "  end_time = process_time()\n",
        "\n",
        "  time = end_time - start_time\n",
        "  summary_report = classification_report(all_true_labels, all_predictions)\n",
        "\n",
        "  \"\"\"\n",
        "  for fold in range(num_folds):\n",
        "    print(\"Confusion matrix for fold\", fold+1, \":\\n\", confusion_matrices[fold])\n",
        "    print(\"Classification report for fold\", fold+1, \":\\n\", classification_reports[fold])\n",
        "    print()\"\"\"\n",
        "\n",
        "  print(summary_report)\n",
        "  print(time)"
      ],
      "metadata": {
        "id": "TtXKb7T2CcIr"
      },
      "execution_count": 8,
      "outputs": []
    },
    {
      "cell_type": "markdown",
      "source": [
        "Data Import and Processing"
      ],
      "metadata": {
        "id": "8S0S6xtXCg5F"
      }
    },
    {
      "cell_type": "code",
      "source": [
        "#https://archive.ics.uci.edu/dataset/468/online+shoppers+purchasing+intention+dataset\n",
        "\n",
        "import pandas as pd\n",
        "import numpy as np\n",
        "import matplotlib.pyplot as plt\n",
        "\n",
        "df = pd.read_csv(\"online_shoppers_intention.csv\")\n",
        "#Identify categorical attributes\n",
        "categorical_features = [\"Month\", \"OperatingSystems\", \"Browser\", \"Region\", \"TrafficType\", \"VisitorType\", \"Weekend\"]\n",
        "df_cat = df[categorical_features]\n",
        "\n",
        "df_onehot = pd.get_dummies(df, columns = categorical_features, prefix = categorical_features)\n",
        "\n",
        "#Tranform categorical attributes\n",
        "label_encoder = LabelEncoder()\n",
        "df_onehot['Revenue'] = label_encoder.fit_transform(df['Revenue'])"
      ],
      "metadata": {
        "id": "qlSFTkjQCjAH"
      },
      "execution_count": 9,
      "outputs": []
    },
    {
      "cell_type": "markdown",
      "source": [
        "Control SMOTE data"
      ],
      "metadata": {
        "id": "kepfh6YaCq40"
      }
    },
    {
      "cell_type": "code",
      "source": [
        "#Specify independent/ dependent values\n",
        "X = df_onehot.drop(columns = \"Revenue\")\n",
        "y = df_onehot[\"Revenue\"]\n",
        "\n",
        "#Split the Data\n",
        "X_train, X_test, y_train, y_test = train_test_split(X, y, test_size = 0.3)\n",
        "\n",
        "smote = SMOTE()\n",
        "X_train_smote, y_train_smote = smote.fit_resample(X_train, y_train)"
      ],
      "metadata": {
        "id": "ot8elK48Crfg"
      },
      "execution_count": 10,
      "outputs": []
    },
    {
      "cell_type": "markdown",
      "source": [
        "Filtered Data\n",
        "Pearson Correlation Filters"
      ],
      "metadata": {
        "id": "xBVEstoFCuN0"
      }
    },
    {
      "cell_type": "code",
      "source": [
        "#Correlation of Onehot encoded dataset\n",
        "\n",
        "corr = df_onehot.corr()\n",
        "\n",
        "revenue_correlation = corr[\"Revenue\"]\n",
        "sorted_pearson_correlation = revenue_correlation.abs().sort_values(ascending = False)\n",
        "\n",
        "sorted_pearson_correlation_df = pd.DataFrame(sorted_pearson_correlation)\n",
        "SPC_topquantile = sorted_pearson_correlation_df.quantile(0.75)\n",
        "filtered_df = sorted_pearson_correlation_df[sorted_pearson_correlation_df >= SPC_topquantile]\n",
        "filtered_df.dropna(inplace = True)\n",
        "#18 attributes were kept, were in the top quantile\n",
        "\n",
        "df_pearson = df_onehot[filtered_df.index.tolist()]\n",
        "\n",
        "#Tranform categorical attributes\n",
        "label_encoder = LabelEncoder()\n",
        "df_pearson['Revenue'] = label_encoder.fit_transform(df_pearson['Revenue'])\n",
        "\n",
        "#Specify independent/ dependent values\n",
        "X_p = df_pearson.drop(columns = \"Revenue\")\n",
        "y_p = df_pearson[\"Revenue\"]\n",
        "\n",
        "#Split the Data\n",
        "X_p_train, X_p_test, y_p_train, y_p_test = train_test_split(X_p, y_p, test_size = 0.3)\n",
        "\n",
        "smote = SMOTE()\n",
        "X_p_train_smote, y_p_train_smote = smote.fit_resample(X_p_train, y_p_train)"
      ],
      "metadata": {
        "colab": {
          "base_uri": "https://localhost:8080/"
        },
        "id": "i3zAOrA9CwTk",
        "outputId": "35e9f72c-c86d-49ce-e477-0ffce67e93cb"
      },
      "execution_count": 11,
      "outputs": [
        {
          "output_type": "stream",
          "name": "stderr",
          "text": [
            "<ipython-input-11-a15d2170359d>:18: SettingWithCopyWarning: \n",
            "A value is trying to be set on a copy of a slice from a DataFrame.\n",
            "Try using .loc[row_indexer,col_indexer] = value instead\n",
            "\n",
            "See the caveats in the documentation: https://pandas.pydata.org/pandas-docs/stable/user_guide/indexing.html#returning-a-view-versus-a-copy\n",
            "  df_pearson['Revenue'] = label_encoder.fit_transform(df_pearson['Revenue'])\n"
          ]
        }
      ]
    },
    {
      "cell_type": "markdown",
      "source": [
        "Random Forest Features"
      ],
      "metadata": {
        "id": "KvquBVX0C2RD"
      }
    },
    {
      "cell_type": "code",
      "source": [
        "#Filters of RF Classifier\n",
        "\n",
        "rf_classifier = RandomForestClassifier()\n",
        "\n",
        "#Fit random forest classifier\n",
        "rf_classifier.fit(X_train_smote, y_train_smote)\n",
        "\n",
        "feature_importances = rf_classifier.feature_importances_\n",
        "\n",
        "rf_df = pd.DataFrame({\"Feature\": X_train_smote.columns, \"Importance\": feature_importances})\n",
        "\n",
        "sorted_features = np.argsort(feature_importances)[::-1]\n",
        "\n",
        "#Sorting features\n",
        "rf_df_sorted = rf_df.sort_values(\"Importance\", ascending = False)\n",
        "rf_df_sorted = rf_df_sorted.reset_index(drop = True)\n",
        "rf_df_sorted\n",
        "\n",
        "rf_df_sorted.describe()\n",
        "RF_topquantile = rf_df_sorted['Importance'].quantile(0.75)\n",
        "RFfiltered_df = rf_df_sorted.loc[rf_df_sorted['Importance'] >= RF_topquantile]\n",
        "#19 features were kept after keeping the top quartile of results\n",
        "filtered_attributes_rf = RFfiltered_df.index.tolist()\n",
        "df_rf = df_onehot[RFfiltered_df[\"Feature\"]]\n",
        "\n",
        "df_rf[\"Revenue\"] = df_onehot[\"Revenue\"]\n",
        "\n",
        "#Specify independent/ dependent values\n",
        "X_rf = df_rf.drop(columns = \"Revenue\")\n",
        "y_rf = df_rf[\"Revenue\"]\n",
        "\n",
        "#Split the Data\n",
        "X_rf_train, X_rf_test, y_rf_train, y_rf_test = train_test_split(X_rf, y_rf, test_size = 0.3)\n",
        "\n",
        "smote = SMOTE()\n",
        "X_rf_train_smote, y_rf_train_smote = smote.fit_resample(X_rf_train, y_rf_train)\n"
      ],
      "metadata": {
        "colab": {
          "base_uri": "https://localhost:8080/"
        },
        "id": "bXeobAKFC24R",
        "outputId": "4c5b8f2f-16e0-4c8c-9ff1-d655576e0391"
      },
      "execution_count": 12,
      "outputs": [
        {
          "output_type": "stream",
          "name": "stderr",
          "text": [
            "<ipython-input-12-72b89fc352e0>:26: SettingWithCopyWarning: \n",
            "A value is trying to be set on a copy of a slice from a DataFrame.\n",
            "Try using .loc[row_indexer,col_indexer] = value instead\n",
            "\n",
            "See the caveats in the documentation: https://pandas.pydata.org/pandas-docs/stable/user_guide/indexing.html#returning-a-view-versus-a-copy\n",
            "  df_rf[\"Revenue\"] = df_onehot[\"Revenue\"]\n"
          ]
        }
      ]
    },
    {
      "cell_type": "code",
      "source": [
        "#Define columns that need data normalization/ standardization\n",
        "numeric_features = ['Administrative', 'Administrative_Duration', 'Informational',\n",
        "       'Informational_Duration', 'ProductRelated', 'ProductRelated_Duration',\n",
        "       'BounceRates', 'ExitRates', 'PageValues', 'SpecialDay']\n",
        "\n",
        "p_numeric_features = ['Administrative', 'Administrative_Duration', 'Informational',\n",
        "       'Informational_Duration', 'ProductRelated', 'ProductRelated_Duration','BounceRates',\n",
        "       'ExitRates', 'PageValues', 'SpecialDay']\n",
        "\n",
        "rf_numeric_features = ['Administrative', 'Administrative_Duration',\n",
        "       'Informational_Duration', 'ProductRelated', 'ProductRelated_Duration',\n",
        "       'BounceRates', 'ExitRates', 'PageValues']\n",
        "\n",
        "cat_features = [col for col in X_train if col not in numeric_features]\n",
        "p_cat_features = [col for col in X_p_train if col not in numeric_features]\n",
        "rf_cat_features = [col for col in X_rf_train if col not in numeric_features]"
      ],
      "metadata": {
        "id": "07r-lhttC_ba"
      },
      "execution_count": 13,
      "outputs": []
    },
    {
      "cell_type": "markdown",
      "source": [
        "Modified Functions to include oversampling/scaling within the function"
      ],
      "metadata": {
        "id": "sE_MzseDDCax"
      }
    },
    {
      "cell_type": "markdown",
      "source": [
        "Unfiltered Data"
      ],
      "metadata": {
        "id": "sFbcX1uYDDDb"
      }
    },
    {
      "cell_type": "code",
      "source": [
        "%memit RFClassifierMOD(X_train, y_train, X_test, y_test, numeric_features, cat_features)"
      ],
      "metadata": {
        "colab": {
          "base_uri": "https://localhost:8080/"
        },
        "id": "J_8DnawgDFPp",
        "outputId": "03defc41-4526-42d3-83f4-2011683414b1"
      },
      "execution_count": 14,
      "outputs": [
        {
          "output_type": "stream",
          "name": "stdout",
          "text": [
            "              precision    recall  f1-score   support\n",
            "\n",
            "           0       0.94      0.95      0.94      3152\n",
            "           1       0.68      0.66      0.67       547\n",
            "\n",
            "    accuracy                           0.90      3699\n",
            "   macro avg       0.81      0.80      0.81      3699\n",
            "weighted avg       0.90      0.90      0.90      3699\n",
            "\n",
            "[[2983  169]\n",
            " [ 187  360]]\n",
            "2.458183323\n",
            "peak memory: 320.88 MiB, increment: 38.18 MiB\n"
          ]
        }
      ]
    },
    {
      "cell_type": "markdown",
      "source": [
        "Pearson Correlation Filtered Data"
      ],
      "metadata": {
        "id": "eNyAfYQ8DKGu"
      }
    },
    {
      "cell_type": "code",
      "source": [
        "%memit RFClassifierMOD(X_p_train, y_p_train, X_p_test, y_p_test, p_numeric_features, p_cat_features)"
      ],
      "metadata": {
        "colab": {
          "base_uri": "https://localhost:8080/"
        },
        "id": "cLRZtww1DKtB",
        "outputId": "cf0114e6-fae2-4e8c-8845-df7fae95aff6"
      },
      "execution_count": 15,
      "outputs": [
        {
          "output_type": "stream",
          "name": "stdout",
          "text": [
            "              precision    recall  f1-score   support\n",
            "\n",
            "           0       0.94      0.93      0.94      3112\n",
            "           1       0.65      0.70      0.67       587\n",
            "\n",
            "    accuracy                           0.89      3699\n",
            "   macro avg       0.79      0.82      0.80      3699\n",
            "weighted avg       0.90      0.89      0.89      3699\n",
            "\n",
            "[[2886  226]\n",
            " [ 174  413]]\n",
            "3.3424328259999996\n",
            "peak memory: 320.89 MiB, increment: 0.02 MiB\n"
          ]
        }
      ]
    },
    {
      "cell_type": "markdown",
      "source": [
        "Random Forest Features"
      ],
      "metadata": {
        "id": "rBOS7wCkDdN7"
      }
    },
    {
      "cell_type": "code",
      "source": [
        "%memit RFClassifierMOD(X_rf_train, y_rf_train, X_rf_test, y_rf_test, rf_numeric_features, rf_cat_features)"
      ],
      "metadata": {
        "colab": {
          "base_uri": "https://localhost:8080/"
        },
        "id": "9mZTLh2tDd9_",
        "outputId": "82ef35f3-a9d1-4d5c-d13c-5fe6bd04ba65"
      },
      "execution_count": 16,
      "outputs": [
        {
          "output_type": "stream",
          "name": "stdout",
          "text": [
            "              precision    recall  f1-score   support\n",
            "\n",
            "           0       0.96      0.93      0.94      3152\n",
            "           1       0.66      0.75      0.70       547\n",
            "\n",
            "    accuracy                           0.91      3699\n",
            "   macro avg       0.81      0.84      0.82      3699\n",
            "weighted avg       0.91      0.91      0.91      3699\n",
            "\n",
            "[[2939  213]\n",
            " [ 136  411]]\n",
            "2.575466091999999\n",
            "peak memory: 320.91 MiB, increment: 0.02 MiB\n"
          ]
        }
      ]
    },
    {
      "cell_type": "markdown",
      "source": [
        "K-Fold Crossvalidation"
      ],
      "metadata": {
        "id": "BODMQqfJDkNN"
      }
    },
    {
      "cell_type": "markdown",
      "source": [
        "Unfiltered Data"
      ],
      "metadata": {
        "id": "VtnFCx58Dle2"
      }
    },
    {
      "cell_type": "code",
      "source": [
        "%memit RFClassifierKFold(X_train, y_train, X_test, y_test, numeric_features, cat_features, 5)"
      ],
      "metadata": {
        "colab": {
          "base_uri": "https://localhost:8080/"
        },
        "id": "d452dU8sDk66",
        "outputId": "c6350cf5-2a31-4d56-82c2-72b54fc0bdb6"
      },
      "execution_count": 17,
      "outputs": [
        {
          "output_type": "stream",
          "name": "stdout",
          "text": [
            "              precision    recall  f1-score   support\n",
            "\n",
            "           0       0.91      0.97      0.94      7270\n",
            "           1       0.78      0.50      0.61      1361\n",
            "\n",
            "    accuracy                           0.90      8631\n",
            "   macro avg       0.85      0.74      0.78      8631\n",
            "weighted avg       0.89      0.90      0.89      8631\n",
            "\n",
            "11.844049472999998\n",
            "peak memory: 346.26 MiB, increment: 25.35 MiB\n"
          ]
        }
      ]
    },
    {
      "cell_type": "markdown",
      "source": [
        "Pearson correlation features"
      ],
      "metadata": {
        "id": "mu4deuSdDt14"
      }
    },
    {
      "cell_type": "code",
      "source": [
        "%memit RFClassifierKFold(X_p_train, y_p_train, X_p_test, y_p_test, p_numeric_features, p_cat_features, 5)"
      ],
      "metadata": {
        "colab": {
          "base_uri": "https://localhost:8080/"
        },
        "id": "8kPgHDkTDums",
        "outputId": "38625994-bcb0-4740-eb2f-dde4a4565905"
      },
      "execution_count": 18,
      "outputs": [
        {
          "output_type": "stream",
          "name": "stdout",
          "text": [
            "              precision    recall  f1-score   support\n",
            "\n",
            "           0       0.92      0.96      0.94      7310\n",
            "           1       0.72      0.56      0.63      1321\n",
            "\n",
            "    accuracy                           0.90      8631\n",
            "   macro avg       0.82      0.76      0.78      8631\n",
            "weighted avg       0.89      0.90      0.89      8631\n",
            "\n",
            "11.878873278999997\n",
            "peak memory: 328.16 MiB, increment: 1.94 MiB\n"
          ]
        }
      ]
    },
    {
      "cell_type": "markdown",
      "source": [
        "Random forest features"
      ],
      "metadata": {
        "id": "LsWL98OvFamE"
      }
    },
    {
      "cell_type": "code",
      "source": [
        "%memit RFClassifierKFold(X_rf_train, y_rf_train, X_rf_test, y_rf_test, rf_numeric_features, rf_cat_features, 5)"
      ],
      "metadata": {
        "colab": {
          "base_uri": "https://localhost:8080/"
        },
        "id": "vPHHFaBcFcLp",
        "outputId": "38f8cb62-d926-4352-fdd7-0a4e58d62b5f"
      },
      "execution_count": 19,
      "outputs": [
        {
          "output_type": "stream",
          "name": "stdout",
          "text": [
            "              precision    recall  f1-score   support\n",
            "\n",
            "           0       0.92      0.97      0.94      7270\n",
            "           1       0.75      0.54      0.63      1361\n",
            "\n",
            "    accuracy                           0.90      8631\n",
            "   macro avg       0.83      0.75      0.79      8631\n",
            "weighted avg       0.89      0.90      0.89      8631\n",
            "\n",
            "11.857269144\n",
            "peak memory: 327.20 MiB, increment: 0.95 MiB\n"
          ]
        }
      ]
    },
    {
      "cell_type": "markdown",
      "source": [
        "Time-Series Crossvalidation\n",
        "Unfiltered Data"
      ],
      "metadata": {
        "id": "FZ9zV5wtFj8J"
      }
    },
    {
      "cell_type": "code",
      "source": [
        "%memit RFClassifierTS(X_train, y_train, X_test, y_test, numeric_features, cat_features, 5)"
      ],
      "metadata": {
        "colab": {
          "base_uri": "https://localhost:8080/"
        },
        "id": "pzxpDvo3FkoR",
        "outputId": "7f175761-68a4-43be-cf5c-49062e7e1354"
      },
      "execution_count": 20,
      "outputs": [
        {
          "output_type": "stream",
          "name": "stdout",
          "text": [
            "              precision    recall  f1-score   support\n",
            "\n",
            "           0       0.91      0.97      0.94      6077\n",
            "           1       0.77      0.50      0.61      1113\n",
            "\n",
            "    accuracy                           0.90      7190\n",
            "   macro avg       0.84      0.74      0.78      7190\n",
            "weighted avg       0.89      0.90      0.89      7190\n",
            "\n",
            "7.776894879999993\n",
            "peak memory: 342.71 MiB, increment: 15.51 MiB\n"
          ]
        }
      ]
    },
    {
      "cell_type": "markdown",
      "source": [
        "Pearson correlation data"
      ],
      "metadata": {
        "id": "p6OkA3IQFqQ9"
      }
    },
    {
      "cell_type": "code",
      "source": [
        "%memit RFClassifierTS(X_p_train, y_p_train, X_p_test, y_p_test, p_numeric_features, p_cat_features, 5)"
      ],
      "metadata": {
        "colab": {
          "base_uri": "https://localhost:8080/"
        },
        "id": "UpYuoSF9Fq_9",
        "outputId": "778e237e-a07b-40dd-989a-2e00f4a96f31"
      },
      "execution_count": 21,
      "outputs": [
        {
          "output_type": "stream",
          "name": "stdout",
          "text": [
            "              precision    recall  f1-score   support\n",
            "\n",
            "           0       0.92      0.96      0.94      6081\n",
            "           1       0.71      0.56      0.63      1109\n",
            "\n",
            "    accuracy                           0.90      7190\n",
            "   macro avg       0.82      0.76      0.78      7190\n",
            "weighted avg       0.89      0.90      0.89      7190\n",
            "\n",
            "7.517051772000002\n",
            "peak memory: 342.76 MiB, increment: 0.05 MiB\n"
          ]
        }
      ]
    },
    {
      "cell_type": "markdown",
      "source": [
        "Random Forest features"
      ],
      "metadata": {
        "id": "_3HG_Mv-FvwZ"
      }
    },
    {
      "cell_type": "code",
      "source": [
        "%memit RFClassifierTS(X_rf_train, y_rf_train, X_rf_test, y_rf_test, rf_numeric_features, rf_cat_features, 5)"
      ],
      "metadata": {
        "colab": {
          "base_uri": "https://localhost:8080/"
        },
        "id": "-YpxKVUcFwne",
        "outputId": "2fcf6b2e-074a-4b0c-bc62-3fbe2c636820"
      },
      "execution_count": 22,
      "outputs": [
        {
          "output_type": "stream",
          "name": "stdout",
          "text": [
            "              precision    recall  f1-score   support\n",
            "\n",
            "           0       0.91      0.96      0.94      6036\n",
            "           1       0.73      0.51      0.61      1154\n",
            "\n",
            "    accuracy                           0.89      7190\n",
            "   macro avg       0.82      0.74      0.77      7190\n",
            "weighted avg       0.88      0.89      0.88      7190\n",
            "\n",
            "7.270151698999996\n",
            "peak memory: 342.78 MiB, increment: 0.02 MiB\n"
          ]
        }
      ]
    }
  ]
}