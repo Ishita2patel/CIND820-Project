{
  "nbformat": 4,
  "nbformat_minor": 0,
  "metadata": {
    "colab": {
      "provenance": [],
      "authorship_tag": "ABX9TyP1ZfYPmNLJqLj7oWcWrRuK",
      "include_colab_link": true
    },
    "kernelspec": {
      "name": "python3",
      "display_name": "Python 3"
    },
    "language_info": {
      "name": "python"
    }
  },
  "cells": [
    {
      "cell_type": "markdown",
      "metadata": {
        "id": "view-in-github",
        "colab_type": "text"
      },
      "source": [
        "<a href=\"https://colab.research.google.com/github/Ishita2patel/CIND820-Project/blob/main/DataScaling.ipynb\" target=\"_parent\"><img src=\"https://colab.research.google.com/assets/colab-badge.svg\" alt=\"Open In Colab\"/></a>"
      ]
    },
    {
      "cell_type": "code",
      "source": [
        "pip install memory_profiler\n"
      ],
      "metadata": {
        "colab": {
          "base_uri": "https://localhost:8080/"
        },
        "id": "tVDcpQJ6mK_b",
        "outputId": "78766a1e-76f5-4052-f1fb-7837fe59d717"
      },
      "execution_count": 2,
      "outputs": [
        {
          "output_type": "stream",
          "name": "stdout",
          "text": [
            "Collecting memory_profiler\n",
            "  Downloading memory_profiler-0.61.0-py3-none-any.whl.metadata (20 kB)\n",
            "Requirement already satisfied: psutil in /usr/local/lib/python3.10/dist-packages (from memory_profiler) (5.9.5)\n",
            "Downloading memory_profiler-0.61.0-py3-none-any.whl (31 kB)\n",
            "Installing collected packages: memory_profiler\n",
            "Successfully installed memory_profiler-0.61.0\n"
          ]
        }
      ]
    },
    {
      "cell_type": "code",
      "execution_count": 3,
      "metadata": {
        "id": "Al6uDqbumBWf"
      },
      "outputs": [],
      "source": [
        "#Data processing\n",
        "from sklearn.preprocessing import OneHotEncoder\n",
        "from sklearn.preprocessing import LabelEncoder\n",
        "\n",
        "from imblearn.over_sampling import SMOTE\n",
        "\n",
        "from sklearn.model_selection import train_test_split\n",
        "from sklearn.compose import ColumnTransformer\n",
        "\n",
        "#Model performance metrics\n",
        "from time import process_time\n",
        "from memory_profiler import profile\n",
        "from sklearn.metrics import confusion_matrix\n",
        "from sklearn.metrics import classification_report\n",
        "\n",
        "#Feature selection and models\n",
        "from sklearn.tree import DecisionTreeClassifier\n",
        "from sklearn.ensemble import RandomForestClassifier\n",
        "from sklearn.linear_model import LogisticRegression\n",
        "from sklearn.feature_selection import RFE\n",
        "\n",
        "#Data scaling\n",
        "from sklearn.preprocessing import MinMaxScaler\n",
        "from sklearn.preprocessing import StandardScaler\n",
        "%load_ext memory_profiler"
      ]
    },
    {
      "cell_type": "code",
      "source": [
        "#Decision Tree Function\n",
        "def DTClassifier(X_train, y_train, X_test, y_test):\n",
        "  #Initialize the DecisionTreeClassifier\n",
        "  tree_raw_imbalanced = DecisionTreeClassifier(criterion = \"entropy\")\n",
        "\n",
        "  #Time Measurement\n",
        "  start_time = process_time()\n",
        "\n",
        "  #Fit the Classifier to the data\n",
        "  tree_raw_imbalanced.fit(X_train, y_train)\n",
        "\n",
        "  #Predict new Data\n",
        "  y_pred = tree_raw_imbalanced.predict(X_test)\n",
        "\n",
        "  #Time Measurement\n",
        "  end_time = process_time()\n",
        "\n",
        "  #Results\n",
        "  cr = classification_report(y_test, y_pred)\n",
        "  cm = confusion_matrix(y_test, y_pred)\n",
        "  time = end_time - start_time\n",
        "  print(cr)\n",
        "  print(cm)\n",
        "  print(time)\n",
        "#Random Forest Model\n",
        "def RFClassifier(X_train, y_train, X_test, y_test):\n",
        "  #Initialize the Random Forest Classifier\n",
        "  forest_raw_imbalanced = RandomForestClassifier(n_estimators = 100)\n",
        "\n",
        "  #Time Measurement\n",
        "  start_time = process_time()\n",
        "\n",
        "  #Fit the classifier to the data\n",
        "  forest_raw_imbalanced.fit(X_train, y_train)\n",
        "\n",
        "  #Predict new Data\n",
        "  y_pred = forest_raw_imbalanced.predict(X_test)\n",
        "\n",
        "  #Time Measurement\n",
        "  end_time = process_time()\n",
        "\n",
        "  #Results\n",
        "  cr = classification_report(y_test, y_pred)\n",
        "  cm = confusion_matrix(y_test, y_pred)\n",
        "  time = end_time - start_time\n",
        "  print(cr)\n",
        "  print(cm)\n",
        "  print(time)"
      ],
      "metadata": {
        "id": "nbPAsRbfmKOr"
      },
      "execution_count": 4,
      "outputs": []
    },
    {
      "cell_type": "code",
      "source": [
        "#Logistic Regression Model\n",
        "def LRClassifier(X_train, y_train, X_test, y_test):\n",
        "  #Initialize the Logistic Regression Classifier\n",
        "  lr_raw_imbalanced = LogisticRegression(max_iter= 1000)\n",
        "\n",
        "  #Time Measurement\n",
        "  start_time = process_time()\n",
        "\n",
        "  #Fit the classifier to the data\n",
        "  lr_raw_imbalanced.fit(X_train, y_train)\n",
        "\n",
        "  #Predict new Data\n",
        "  y_pred = lr_raw_imbalanced.predict(X_test)\n",
        "\n",
        "  #Time Measurement\n",
        "  end_time = process_time()\n",
        "\n",
        "  #Results\n",
        "  cr = classification_report(y_test, y_pred)\n",
        "  cm = confusion_matrix(y_test, y_pred)\n",
        "  time = end_time - start_time\n",
        "  print(cr)\n",
        "  print(cm)\n",
        "  print(time)\n"
      ],
      "metadata": {
        "id": "l_wZ_wDYmXHx"
      },
      "execution_count": 5,
      "outputs": []
    },
    {
      "cell_type": "code",
      "source": [
        "#https://archive.ics.uci.edu/dataset/468/online+shoppers+purchasing+intention+dataset\n",
        "\n",
        "import pandas as pd\n",
        "import numpy as np\n",
        "import matplotlib.pyplot as plt\n",
        "\n",
        "df = pd.read_csv(\"online_shoppers_intention.csv\")\n",
        "#Identify categorical attributes\n",
        "categorical_features = [\"Month\", \"OperatingSystems\", \"Browser\", \"Region\", \"TrafficType\", \"VisitorType\", \"Weekend\"]\n",
        "df_cat = df[categorical_features]\n",
        "\n",
        "df_onehot = pd.get_dummies(df, columns = categorical_features, prefix = categorical_features)\n",
        "\n",
        "#Tranform categorical attributes\n",
        "label_encoder = LabelEncoder()\n",
        "df_onehot['Revenue'] = label_encoder.fit_transform(df['Revenue'])"
      ],
      "metadata": {
        "id": "rPlZ8HPOmdZX"
      },
      "execution_count": 6,
      "outputs": []
    },
    {
      "cell_type": "code",
      "source": [
        "#Specify independent/ dependent values\n",
        "X = df_onehot.drop(columns = \"Revenue\")\n",
        "y = df_onehot[\"Revenue\"]\n",
        "\n",
        "#Split the Data\n",
        "X_train, X_test, y_train, y_test = train_test_split(X, y, test_size = 0.3)\n",
        "\n",
        "smote = SMOTE()\n",
        "X_train_smote, y_train_smote = smote.fit_resample(X_train, y_train)"
      ],
      "metadata": {
        "id": "bTBPwG4wmkPg"
      },
      "execution_count": 7,
      "outputs": []
    },
    {
      "cell_type": "markdown",
      "source": [
        "Filtered Data\n",
        "Pearson Correlation Filters"
      ],
      "metadata": {
        "id": "VRZro5cSmm_B"
      }
    },
    {
      "cell_type": "code",
      "source": [
        "#Correlation of Onehot encoded dataset\n",
        "\n",
        "corr = df_onehot.corr()\n",
        "\n",
        "revenue_correlation = corr[\"Revenue\"]\n",
        "sorted_pearson_correlation = revenue_correlation.abs().sort_values(ascending = False)\n",
        "\n",
        "sorted_pearson_correlation_df = pd.DataFrame(sorted_pearson_correlation)\n",
        "SPC_topquantile = sorted_pearson_correlation_df.quantile(0.75)\n",
        "filtered_df = sorted_pearson_correlation_df[sorted_pearson_correlation_df >= SPC_topquantile]\n",
        "filtered_df.dropna(inplace = True)\n",
        "#18 attributes were kept, were in the top quantile\n",
        "\n",
        "df_pearson = df_onehot[filtered_df.index.tolist()]\n",
        "\n",
        "#Tranform categorical attributes\n",
        "label_encoder = LabelEncoder()\n",
        "df_pearson['Revenue'] = label_encoder.fit_transform(df_pearson['Revenue'])\n",
        "\n",
        "#Specify independent/ dependent values\n",
        "X_p = df_pearson.drop(columns = \"Revenue\")\n",
        "y_p = df_pearson[\"Revenue\"]\n",
        "\n",
        "#Split the Data\n",
        "X_p_train, X_p_test, y_p_train, y_p_test = train_test_split(X_p, y_p, test_size = 0.3)\n",
        "\n",
        "smote = SMOTE()\n",
        "X_p_train_smote, y_p_train_smote = smote.fit_resample(X_p_train, y_p_train)"
      ],
      "metadata": {
        "colab": {
          "base_uri": "https://localhost:8080/"
        },
        "id": "eOyd4A0Qmnqg",
        "outputId": "4824f9ad-1a5a-4b36-ebd4-57b90c71225d"
      },
      "execution_count": 8,
      "outputs": [
        {
          "output_type": "stream",
          "name": "stderr",
          "text": [
            "<ipython-input-8-a15d2170359d>:18: SettingWithCopyWarning: \n",
            "A value is trying to be set on a copy of a slice from a DataFrame.\n",
            "Try using .loc[row_indexer,col_indexer] = value instead\n",
            "\n",
            "See the caveats in the documentation: https://pandas.pydata.org/pandas-docs/stable/user_guide/indexing.html#returning-a-view-versus-a-copy\n",
            "  df_pearson['Revenue'] = label_encoder.fit_transform(df_pearson['Revenue'])\n"
          ]
        }
      ]
    },
    {
      "cell_type": "markdown",
      "source": [
        "Random Forest Features"
      ],
      "metadata": {
        "id": "WZqEovTgmtfT"
      }
    },
    {
      "cell_type": "code",
      "source": [
        "#Filters of RF Classifier\n",
        "\n",
        "rf_classifier = RandomForestClassifier()\n",
        "\n",
        "#Fit random forest classifier\n",
        "rf_classifier.fit(X_train_smote, y_train_smote)\n",
        "\n",
        "feature_importances = rf_classifier.feature_importances_\n",
        "\n",
        "rf_df = pd.DataFrame({\"Feature\": X_train_smote.columns, \"Importance\": feature_importances})\n",
        "\n",
        "sorted_features = np.argsort(feature_importances)[::-1]\n",
        "\n",
        "#Sorting features\n",
        "rf_df_sorted = rf_df.sort_values(\"Importance\", ascending = False)\n",
        "rf_df_sorted = rf_df_sorted.reset_index(drop = True)\n",
        "rf_df_sorted\n",
        "\n",
        "rf_df_sorted.describe()\n",
        "RF_topquantile = rf_df_sorted['Importance'].quantile(0.75)\n",
        "RFfiltered_df = rf_df_sorted.loc[rf_df_sorted['Importance'] >= RF_topquantile]\n",
        "#19 features were kept after keeping the top quartile of results\n",
        "filtered_attributes_rf = RFfiltered_df.index.tolist()\n",
        "df_rf = df_onehot[RFfiltered_df[\"Feature\"]]\n",
        "\n",
        "df_rf[\"Revenue\"] = df_onehot[\"Revenue\"]\n",
        "\n",
        "#Specify independent/ dependent values\n",
        "X_rf = df_rf.drop(columns = \"Revenue\")\n",
        "y_rf = df_rf[\"Revenue\"]\n",
        "\n",
        "#Split the Data\n",
        "X_rf_train, X_rf_test, y_rf_train, y_rf_test = train_test_split(X_rf, y_rf, test_size = 0.3)\n",
        "\n",
        "smote = SMOTE()\n",
        "X_rf_train_smote, y_rf_train_smote = smote.fit_resample(X_rf_train, y_rf_train)\n"
      ],
      "metadata": {
        "colab": {
          "base_uri": "https://localhost:8080/"
        },
        "id": "9DBDPOhmmuOM",
        "outputId": "b8a9ccd6-4264-45fc-8b66-160d5eb74f05"
      },
      "execution_count": 9,
      "outputs": [
        {
          "output_type": "stream",
          "name": "stderr",
          "text": [
            "<ipython-input-9-72b89fc352e0>:26: SettingWithCopyWarning: \n",
            "A value is trying to be set on a copy of a slice from a DataFrame.\n",
            "Try using .loc[row_indexer,col_indexer] = value instead\n",
            "\n",
            "See the caveats in the documentation: https://pandas.pydata.org/pandas-docs/stable/user_guide/indexing.html#returning-a-view-versus-a-copy\n",
            "  df_rf[\"Revenue\"] = df_onehot[\"Revenue\"]\n"
          ]
        }
      ]
    },
    {
      "cell_type": "markdown",
      "source": [
        "RFE Feature Selection"
      ],
      "metadata": {
        "id": "_trRko4im0zB"
      }
    },
    {
      "cell_type": "code",
      "source": [
        "#Filter for features with RFE\n",
        "\n",
        "df_X_rfe = df_onehot.drop(columns = \"Revenue\")\n",
        "df_y_rfe = df_onehot[\"Revenue\"]\n",
        "\n",
        "# Instantiate the model and RFE selector\n",
        "model = LogisticRegression(solver = \"liblinear\")\n",
        "rfe_selector = RFE(model, n_features_to_select = 20)\n",
        "\n",
        "# Perform RFE feature selection\n",
        "selected_features = rfe_selector.fit_transform(df_X_rfe, df_y_rfe)\n",
        "\n",
        "# Get the mask of selected features\n",
        "feature_mask = rfe_selector.support_\n",
        "\n",
        "# Get the ranking of features (optional)\n",
        "feature_ranking = rfe_selector.ranking_\n",
        "\n",
        "selected_indices = [i for i, mask in enumerate(feature_mask) if mask]\n",
        "print(\"Selected feature indices:\", selected_indices)\n",
        "rfe_ranking_df = pd.DataFrame({\"Feature\": df_X_rfe.columns, \"Rank\": feature_ranking})\n",
        "rfe_ranking_df = rfe_ranking_df.sort_values(\"Rank\")\n",
        "RFEtop_quartile_value = rfe_ranking_df['Rank'].quantile(0.25)\n",
        "RFEfiltered_df = rfe_ranking_df[rfe_ranking_df['Rank'] <= RFEtop_quartile_value]\n",
        "RFEfiltered_df\n",
        "\n",
        "filtered_attributes_rfe = RFEfiltered_df.index.tolist()\n",
        "df_rfe = df_onehot[RFEfiltered_df[\"Feature\"]]\n",
        "\n",
        "#20 features are kept after random forest feature selection\n",
        "df_rfe[\"Revenue\"] = df_onehot[\"Revenue\"]\n",
        "\n",
        "#Specify independent/ dependent values\n",
        "X_rfe = df_rfe.drop(columns = \"Revenue\")\n",
        "y_rfe = df_rfe[\"Revenue\"]\n",
        "\n",
        "#Split the Data\n",
        "X_rfe_train, X_rfe_test, y_rfe_train, y_rfe_test = train_test_split(X_rfe, y_rfe, test_size = 0.3)\n",
        "\n",
        "smote = SMOTE()\n",
        "X_rfe_train_smote, y_rfe_train_smote = smote.fit_resample(X_rfe_train, y_rfe_train)\n"
      ],
      "metadata": {
        "colab": {
          "base_uri": "https://localhost:8080/"
        },
        "id": "Wm58byibm1d2",
        "outputId": "3e715d2f-e533-4591-88d4-c5ece9cfb578"
      },
      "execution_count": 10,
      "outputs": [
        {
          "output_type": "stream",
          "name": "stdout",
          "text": [
            "Selected feature indices: [6, 7, 9, 10, 12, 13, 17, 18, 19, 22, 30, 39, 50, 52, 56, 62, 64, 67, 73, 74]\n"
          ]
        },
        {
          "output_type": "stream",
          "name": "stderr",
          "text": [
            "<ipython-input-10-e8d0f826279d>:31: SettingWithCopyWarning: \n",
            "A value is trying to be set on a copy of a slice from a DataFrame.\n",
            "Try using .loc[row_indexer,col_indexer] = value instead\n",
            "\n",
            "See the caveats in the documentation: https://pandas.pydata.org/pandas-docs/stable/user_guide/indexing.html#returning-a-view-versus-a-copy\n",
            "  df_rfe[\"Revenue\"] = df_onehot[\"Revenue\"]\n"
          ]
        }
      ]
    },
    {
      "cell_type": "code",
      "source": [
        "#Define columns that need data normalization/ standardization\n",
        "numeric_features = ['Administrative', 'Administrative_Duration', 'Informational',\n",
        "       'Informational_Duration', 'ProductRelated', 'ProductRelated_Duration',\n",
        "       'BounceRates', 'ExitRates', 'PageValues', 'SpecialDay']\n",
        "\n",
        "p_numeric_features = ['Administrative', 'Administrative_Duration', 'Informational',\n",
        "       'Informational_Duration', 'ProductRelated', 'ProductRelated_Duration','BounceRates',\n",
        "       'ExitRates', 'PageValues', 'SpecialDay']\n",
        "\n",
        "rf_numeric_features = ['Administrative', 'Administrative_Duration',\n",
        "       'Informational_Duration', 'ProductRelated', 'ProductRelated_Duration',\n",
        "       'BounceRates', 'ExitRates', 'PageValues']\n",
        "\n",
        "rfe_numeric_features = ['BounceRates', 'ExitRates', 'SpecialDay']\n",
        "\n",
        "cat_features = [col for col in X_train if col not in numeric_features]\n",
        "p_cat_features = [col for col in X_p_train if col not in numeric_features]\n",
        "rf_cat_features = [col for col in X_rf_train if col not in numeric_features]\n",
        "rfe_cat_features = [col for col in X_rfe_train if col not in numeric_features]\n",
        "%memit RFClassifier(X_train_smote, y_train_smote, X_test, y_test)"
      ],
      "metadata": {
        "colab": {
          "base_uri": "https://localhost:8080/"
        },
        "id": "h_JJVJIlnEbh",
        "outputId": "23abf38c-ebcd-4962-95f9-288d0f56a553"
      },
      "execution_count": 11,
      "outputs": [
        {
          "output_type": "stream",
          "name": "stdout",
          "text": [
            "              precision    recall  f1-score   support\n",
            "\n",
            "           0       0.94      0.94      0.94      3137\n",
            "           1       0.67      0.64      0.65       562\n",
            "\n",
            "    accuracy                           0.90      3699\n",
            "   macro avg       0.80      0.79      0.80      3699\n",
            "weighted avg       0.90      0.90      0.90      3699\n",
            "\n",
            "[[2963  174]\n",
            " [ 205  357]]\n",
            "3.2941009260000023\n",
            "peak memory: 322.93 MiB, increment: 19.07 MiB\n"
          ]
        }
      ]
    },
    {
      "cell_type": "code",
      "source": [
        "%memit RFClassifier(X_p_train_smote, y_p_train_smote, X_p_test, y_p_test)"
      ],
      "metadata": {
        "colab": {
          "base_uri": "https://localhost:8080/"
        },
        "id": "yPKDF4InnIAD",
        "outputId": "f039df8d-fcae-4e43-c63a-42d957d1240e"
      },
      "execution_count": 12,
      "outputs": [
        {
          "output_type": "stream",
          "name": "stdout",
          "text": [
            "              precision    recall  f1-score   support\n",
            "\n",
            "           0       0.95      0.92      0.93      3112\n",
            "           1       0.62      0.72      0.67       587\n",
            "\n",
            "    accuracy                           0.89      3699\n",
            "   macro avg       0.79      0.82      0.80      3699\n",
            "weighted avg       0.89      0.89      0.89      3699\n",
            "\n",
            "[[2857  255]\n",
            " [ 163  424]]\n",
            "3.2490241080000004\n",
            "peak memory: 323.01 MiB, increment: 0.07 MiB\n"
          ]
        }
      ]
    },
    {
      "cell_type": "code",
      "source": [
        "%memit RFClassifier(X_rf_train_smote, y_rf_train_smote, X_rf_test, y_rf_test)"
      ],
      "metadata": {
        "colab": {
          "base_uri": "https://localhost:8080/"
        },
        "id": "0n_GGQljnKxz",
        "outputId": "e408c5e4-4362-4279-e6f1-fee1c65c032a"
      },
      "execution_count": 13,
      "outputs": [
        {
          "output_type": "stream",
          "name": "stdout",
          "text": [
            "              precision    recall  f1-score   support\n",
            "\n",
            "           0       0.94      0.93      0.93      3110\n",
            "           1       0.65      0.67      0.66       589\n",
            "\n",
            "    accuracy                           0.89      3699\n",
            "   macro avg       0.79      0.80      0.80      3699\n",
            "weighted avg       0.89      0.89      0.89      3699\n",
            "\n",
            "[[2900  210]\n",
            " [ 195  394]]\n",
            "2.450852220999998\n",
            "peak memory: 323.04 MiB, increment: 0.03 MiB\n"
          ]
        }
      ]
    },
    {
      "cell_type": "markdown",
      "source": [
        "Control Model Performance\n",
        "Unfiltered Data"
      ],
      "metadata": {
        "id": "QzNl8FyRnOyE"
      }
    },
    {
      "cell_type": "code",
      "source": [
        "%memit DTClassifier(X_train_smote, y_train_smote, X_test, y_test)"
      ],
      "metadata": {
        "colab": {
          "base_uri": "https://localhost:8080/"
        },
        "id": "KbiF5NqEnPY-",
        "outputId": "ffad1004-4fb2-44c2-f55c-50da50ed75a1"
      },
      "execution_count": 14,
      "outputs": [
        {
          "output_type": "stream",
          "name": "stdout",
          "text": [
            "              precision    recall  f1-score   support\n",
            "\n",
            "           0       0.93      0.90      0.92      3137\n",
            "           1       0.53      0.61      0.57       562\n",
            "\n",
            "    accuracy                           0.86      3699\n",
            "   macro avg       0.73      0.76      0.74      3699\n",
            "weighted avg       0.87      0.86      0.86      3699\n",
            "\n",
            "[[2836  301]\n",
            " [ 221  341]]\n",
            "0.21827646300000225\n",
            "peak memory: 323.05 MiB, increment: 0.00 MiB\n"
          ]
        }
      ]
    },
    {
      "cell_type": "code",
      "source": [
        "%memit RFClassifier(X_train_smote, y_train_smote, X_test, y_test)"
      ],
      "metadata": {
        "colab": {
          "base_uri": "https://localhost:8080/"
        },
        "id": "lByprX4DnTon",
        "outputId": "9b77178f-f8b7-4d49-d425-97372cbc740a"
      },
      "execution_count": 15,
      "outputs": [
        {
          "output_type": "stream",
          "name": "stdout",
          "text": [
            "              precision    recall  f1-score   support\n",
            "\n",
            "           0       0.94      0.94      0.94      3137\n",
            "           1       0.67      0.66      0.66       562\n",
            "\n",
            "    accuracy                           0.90      3699\n",
            "   macro avg       0.80      0.80      0.80      3699\n",
            "weighted avg       0.90      0.90      0.90      3699\n",
            "\n",
            "[[2956  181]\n",
            " [ 193  369]]\n",
            "2.3421089350000024\n",
            "peak memory: 323.10 MiB, increment: 0.01 MiB\n"
          ]
        }
      ]
    },
    {
      "cell_type": "code",
      "source": [
        "%memit LRClassifier(X_train_smote, y_train_smote, X_test, y_test)"
      ],
      "metadata": {
        "colab": {
          "base_uri": "https://localhost:8080/"
        },
        "id": "lojIpRzYnW8V",
        "outputId": "72df9063-0d67-4474-8ae5-cc6c76e4e288"
      },
      "execution_count": 16,
      "outputs": [
        {
          "output_type": "stream",
          "name": "stdout",
          "text": [
            "              precision    recall  f1-score   support\n",
            "\n",
            "           0       0.91      0.96      0.93      3137\n",
            "           1       0.66      0.46      0.54       562\n",
            "\n",
            "    accuracy                           0.88      3699\n",
            "   macro avg       0.78      0.71      0.74      3699\n",
            "weighted avg       0.87      0.88      0.87      3699\n",
            "\n",
            "[[3005  132]\n",
            " [ 304  258]]\n",
            "5.663261786000007\n",
            "peak memory: 331.09 MiB, increment: 7.99 MiB\n"
          ]
        },
        {
          "output_type": "stream",
          "name": "stderr",
          "text": [
            "/usr/local/lib/python3.10/dist-packages/sklearn/linear_model/_logistic.py:469: ConvergenceWarning: lbfgs failed to converge (status=1):\n",
            "STOP: TOTAL NO. of ITERATIONS REACHED LIMIT.\n",
            "\n",
            "Increase the number of iterations (max_iter) or scale the data as shown in:\n",
            "    https://scikit-learn.org/stable/modules/preprocessing.html\n",
            "Please also refer to the documentation for alternative solver options:\n",
            "    https://scikit-learn.org/stable/modules/linear_model.html#logistic-regression\n",
            "  n_iter_i = _check_optimize_result(\n"
          ]
        }
      ]
    },
    {
      "cell_type": "markdown",
      "source": [
        "Pearson correlation features"
      ],
      "metadata": {
        "id": "ua-Qj8ISnbze"
      }
    },
    {
      "cell_type": "code",
      "source": [
        "%memit DTClassifier(X_p_train_smote, y_p_train_smote, X_p_test, y_p_test)"
      ],
      "metadata": {
        "colab": {
          "base_uri": "https://localhost:8080/"
        },
        "id": "f-PIWcdlncfO",
        "outputId": "84ecd278-4704-44a4-f3e7-fd008eee4e53"
      },
      "execution_count": 17,
      "outputs": [
        {
          "output_type": "stream",
          "name": "stdout",
          "text": [
            "              precision    recall  f1-score   support\n",
            "\n",
            "           0       0.93      0.89      0.91      3112\n",
            "           1       0.52      0.63      0.57       587\n",
            "\n",
            "    accuracy                           0.85      3699\n",
            "   macro avg       0.72      0.76      0.74      3699\n",
            "weighted avg       0.86      0.85      0.85      3699\n",
            "\n",
            "[[2763  349]\n",
            " [ 215  372]]\n",
            "0.21812561400000163\n",
            "peak memory: 314.60 MiB, increment: 0.05 MiB\n"
          ]
        }
      ]
    },
    {
      "cell_type": "code",
      "source": [
        "%memit RFClassifier(X_p_train_smote, y_p_train_smote, X_p_test, y_p_test)"
      ],
      "metadata": {
        "colab": {
          "base_uri": "https://localhost:8080/"
        },
        "id": "3ek2wDiFng-n",
        "outputId": "0d1ca707-dfad-422f-8d8a-e98fb61fe78e"
      },
      "execution_count": 18,
      "outputs": [
        {
          "output_type": "stream",
          "name": "stdout",
          "text": [
            "              precision    recall  f1-score   support\n",
            "\n",
            "           0       0.95      0.91      0.93      3112\n",
            "           1       0.61      0.74      0.67       587\n",
            "\n",
            "    accuracy                           0.89      3699\n",
            "   macro avg       0.78      0.83      0.80      3699\n",
            "weighted avg       0.90      0.89      0.89      3699\n",
            "\n",
            "[[2840  272]\n",
            " [ 153  434]]\n",
            "2.8588364190000064\n",
            "peak memory: 315.09 MiB, increment: 0.48 MiB\n"
          ]
        }
      ]
    },
    {
      "cell_type": "code",
      "source": [
        "%memit LRClassifier(X_p_train_smote, y_p_train_smote, X_p_test, y_p_test)"
      ],
      "metadata": {
        "colab": {
          "base_uri": "https://localhost:8080/"
        },
        "id": "z0gNUVUqnjyC",
        "outputId": "adf55493-2cc6-4539-9443-5449c66d9e32"
      },
      "execution_count": 19,
      "outputs": [
        {
          "output_type": "stream",
          "name": "stdout",
          "text": [
            "              precision    recall  f1-score   support\n",
            "\n",
            "           0       0.93      0.88      0.91      3112\n",
            "           1       0.51      0.67      0.58       587\n",
            "\n",
            "    accuracy                           0.85      3699\n",
            "   macro avg       0.72      0.78      0.74      3699\n",
            "weighted avg       0.87      0.85      0.86      3699\n",
            "\n",
            "[[2740  372]\n",
            " [ 193  394]]\n",
            "5.210010787999998\n",
            "peak memory: 315.10 MiB, increment: 0.01 MiB\n"
          ]
        },
        {
          "output_type": "stream",
          "name": "stderr",
          "text": [
            "/usr/local/lib/python3.10/dist-packages/sklearn/linear_model/_logistic.py:469: ConvergenceWarning: lbfgs failed to converge (status=1):\n",
            "STOP: TOTAL NO. of ITERATIONS REACHED LIMIT.\n",
            "\n",
            "Increase the number of iterations (max_iter) or scale the data as shown in:\n",
            "    https://scikit-learn.org/stable/modules/preprocessing.html\n",
            "Please also refer to the documentation for alternative solver options:\n",
            "    https://scikit-learn.org/stable/modules/linear_model.html#logistic-regression\n",
            "  n_iter_i = _check_optimize_result(\n"
          ]
        }
      ]
    },
    {
      "cell_type": "markdown",
      "source": [
        "Random Forest features"
      ],
      "metadata": {
        "id": "7weM2qNhnmkB"
      }
    },
    {
      "cell_type": "code",
      "source": [
        "%memit DTClassifier(X_rf_train_smote, y_rf_train_smote, X_rf_test, y_rf_test)"
      ],
      "metadata": {
        "colab": {
          "base_uri": "https://localhost:8080/"
        },
        "id": "REja1yKDnnGb",
        "outputId": "1548718c-01c8-4023-dabe-5f8c1c5eb066"
      },
      "execution_count": 20,
      "outputs": [
        {
          "output_type": "stream",
          "name": "stdout",
          "text": [
            "              precision    recall  f1-score   support\n",
            "\n",
            "           0       0.92      0.90      0.91      3110\n",
            "           1       0.53      0.61      0.57       589\n",
            "\n",
            "    accuracy                           0.85      3699\n",
            "   macro avg       0.73      0.76      0.74      3699\n",
            "weighted avg       0.86      0.85      0.86      3699\n",
            "\n",
            "[[2796  314]\n",
            " [ 228  361]]\n",
            "0.1589414139999974\n",
            "peak memory: 315.12 MiB, increment: 0.00 MiB\n"
          ]
        }
      ]
    },
    {
      "cell_type": "code",
      "source": [
        "%memit RFClassifier(X_rf_train_smote, y_rf_train_smote, X_rf_test, y_rf_test)"
      ],
      "metadata": {
        "colab": {
          "base_uri": "https://localhost:8080/"
        },
        "id": "Tu_6CnRjnp6h",
        "outputId": "af4e74af-34ad-4c97-eb0b-11b8c3472931"
      },
      "execution_count": 21,
      "outputs": [
        {
          "output_type": "stream",
          "name": "stdout",
          "text": [
            "              precision    recall  f1-score   support\n",
            "\n",
            "           0       0.94      0.93      0.94      3110\n",
            "           1       0.66      0.69      0.67       589\n",
            "\n",
            "    accuracy                           0.89      3699\n",
            "   macro avg       0.80      0.81      0.80      3699\n",
            "weighted avg       0.90      0.89      0.89      3699\n",
            "\n",
            "[[2899  211]\n",
            " [ 183  406]]\n",
            "2.896500275000001\n",
            "peak memory: 315.13 MiB, increment: 0.00 MiB\n"
          ]
        }
      ]
    },
    {
      "cell_type": "code",
      "source": [
        "%memit LRClassifier(X_rf_train_smote, y_rf_train_smote, X_rf_test, y_rf_test)"
      ],
      "metadata": {
        "colab": {
          "base_uri": "https://localhost:8080/"
        },
        "id": "RB2ZShODnuqC",
        "outputId": "67105413-8a21-4105-fcea-c8d86e91dd74"
      },
      "execution_count": 22,
      "outputs": [
        {
          "output_type": "stream",
          "name": "stdout",
          "text": [
            "              precision    recall  f1-score   support\n",
            "\n",
            "           0       0.92      0.92      0.92      3110\n",
            "           1       0.59      0.58      0.59       589\n",
            "\n",
            "    accuracy                           0.87      3699\n",
            "   macro avg       0.75      0.75      0.75      3699\n",
            "weighted avg       0.87      0.87      0.87      3699\n",
            "\n",
            "[[2868  242]\n",
            " [ 245  344]]\n",
            "4.775792871\n",
            "peak memory: 315.18 MiB, increment: 0.04 MiB\n"
          ]
        },
        {
          "output_type": "stream",
          "name": "stderr",
          "text": [
            "/usr/local/lib/python3.10/dist-packages/sklearn/linear_model/_logistic.py:469: ConvergenceWarning: lbfgs failed to converge (status=1):\n",
            "STOP: TOTAL NO. of ITERATIONS REACHED LIMIT.\n",
            "\n",
            "Increase the number of iterations (max_iter) or scale the data as shown in:\n",
            "    https://scikit-learn.org/stable/modules/preprocessing.html\n",
            "Please also refer to the documentation for alternative solver options:\n",
            "    https://scikit-learn.org/stable/modules/linear_model.html#logistic-regression\n",
            "  n_iter_i = _check_optimize_result(\n"
          ]
        }
      ]
    },
    {
      "cell_type": "markdown",
      "source": [
        "Recursive Feature Elimination Features"
      ],
      "metadata": {
        "id": "FpCusnQQnxcc"
      }
    },
    {
      "cell_type": "code",
      "source": [
        "%memit DTClassifier(X_rfe_train_smote, y_rfe_train_smote, X_rfe_test, y_rfe_test)"
      ],
      "metadata": {
        "colab": {
          "base_uri": "https://localhost:8080/"
        },
        "id": "N5mf7t0fnyUz",
        "outputId": "81b04749-176a-46b2-b76d-000cc8069c6c"
      },
      "execution_count": 23,
      "outputs": [
        {
          "output_type": "stream",
          "name": "stdout",
          "text": [
            "              precision    recall  f1-score   support\n",
            "\n",
            "           0       0.87      0.74      0.80      3102\n",
            "           1       0.24      0.42      0.31       597\n",
            "\n",
            "    accuracy                           0.69      3699\n",
            "   macro avg       0.55      0.58      0.55      3699\n",
            "weighted avg       0.77      0.69      0.72      3699\n",
            "\n",
            "[[2305  797]\n",
            " [ 346  251]]\n",
            "0.14826772499999663\n",
            "peak memory: 315.18 MiB, increment: 0.00 MiB\n"
          ]
        }
      ]
    },
    {
      "cell_type": "code",
      "source": [
        "%memit RFClassifier(X_rfe_train_smote, y_rfe_train_smote, X_rfe_test, y_rfe_test)"
      ],
      "metadata": {
        "colab": {
          "base_uri": "https://localhost:8080/"
        },
        "id": "0-tBoZgHn1Tc",
        "outputId": "62445453-fd08-4f99-bea3-94a1f7241e64"
      },
      "execution_count": 24,
      "outputs": [
        {
          "output_type": "stream",
          "name": "stdout",
          "text": [
            "              precision    recall  f1-score   support\n",
            "\n",
            "           0       0.88      0.78      0.83      3102\n",
            "           1       0.28      0.46      0.35       597\n",
            "\n",
            "    accuracy                           0.73      3699\n",
            "   macro avg       0.58      0.62      0.59      3699\n",
            "weighted avg       0.78      0.73      0.75      3699\n",
            "\n",
            "[[2410  692]\n",
            " [ 325  272]]\n",
            "2.152745908\n",
            "peak memory: 342.66 MiB, increment: 27.47 MiB\n"
          ]
        }
      ]
    },
    {
      "cell_type": "code",
      "source": [
        "%memit LRClassifier(X_rfe_train_smote, y_rfe_train_smote, X_rfe_test, y_rfe_test)"
      ],
      "metadata": {
        "colab": {
          "base_uri": "https://localhost:8080/"
        },
        "id": "kKlmnRRBn6Ys",
        "outputId": "8bb9fc25-9b78-4872-9b35-0d0e2ac60c88"
      },
      "execution_count": 25,
      "outputs": [
        {
          "output_type": "stream",
          "name": "stdout",
          "text": [
            "              precision    recall  f1-score   support\n",
            "\n",
            "           0       0.93      0.60      0.73      3102\n",
            "           1       0.27      0.78      0.41       597\n",
            "\n",
            "    accuracy                           0.63      3699\n",
            "   macro avg       0.60      0.69      0.57      3699\n",
            "weighted avg       0.83      0.63      0.68      3699\n",
            "\n",
            "[[1867 1235]\n",
            " [ 131  466]]\n",
            "0.3646215459999951\n",
            "peak memory: 326.19 MiB, increment: 0.03 MiB\n"
          ]
        }
      ]
    },
    {
      "cell_type": "markdown",
      "source": [
        "Data Normalization"
      ],
      "metadata": {
        "id": "wrMbwR6FoAub"
      }
    },
    {
      "cell_type": "code",
      "source": [
        "#Subsetting data to scale numeric features\n",
        "\n",
        "#Control\n",
        "X_train_smote_NUM = X_train_smote[numeric_features]\n",
        "X_test_NUM = X_test[numeric_features]\n",
        "\n",
        "#Pearson correlation features\n",
        "X_p_train_smote_NUM = X_p_train_smote[p_numeric_features]\n",
        "X_p_test_NUM = X_p_test[p_numeric_features]\n",
        "\n",
        "#Random Forest features\n",
        "X_rf_train_smote_NUM = X_rf_train_smote[rf_numeric_features]\n",
        "X_rf_test_NUM = X_rf_test[rf_numeric_features]\n",
        "\n",
        "#Recursive Feature Elimination features\n",
        "X_rfe_train_smote_NUM = X_rfe_train_smote[rfe_numeric_features]\n",
        "X_rfe_test_NUM = X_rfe_test[rfe_numeric_features]\n",
        "nscaler = MinMaxScaler()\n",
        "\n",
        "#Scaling control\n",
        "X_train_smote_NUM_N = nscaler.fit_transform(X_train_smote_NUM)\n",
        "X_train_smote_COMBINED_N = np.concatenate((X_train_smote_NUM_N, X_train_smote[cat_features]), axis = 1)\n",
        "\n",
        "X_test_NUM_N = nscaler.transform(X_test_NUM)\n",
        "X_test_COMBINED_N = np.concatenate((X_test_NUM_N, X_test[cat_features]), axis = 1)\n",
        "\n",
        "#Scaling Pearson correlation features\n",
        "X_p_train_smote_NUM_N = nscaler.fit_transform(X_p_train_smote_NUM)\n",
        "X_p_train_smote_COMBINED_N = np.concatenate((X_p_train_smote_NUM_N, X_p_train_smote[p_cat_features]), axis = 1)\n",
        "\n",
        "X_p_test_NUM_N = nscaler.transform(X_p_test_NUM)\n",
        "X_p_test_COMBINED_N = np.concatenate((X_p_test_NUM_N, X_p_test[p_cat_features]), axis = 1)\n",
        "\n",
        "#Scaling Random Forest features\n",
        "X_rf_train_smote_NUM_N = nscaler.fit_transform(X_rf_train_smote_NUM)\n",
        "X_rf_train_smote_COMBINED_N = np.concatenate((X_rf_train_smote_NUM_N, X_rf_train_smote[rf_cat_features]), axis = 1)\n",
        "\n",
        "X_rf_test_NUM_N = nscaler.transform(X_rf_test_NUM)\n",
        "X_rf_test_COMBINED_N = np.concatenate((X_rf_test_NUM_N, X_rf_test[rf_cat_features]), axis = 1)\n",
        "\n",
        "#Scaling Recursive Feature Elimination features\n",
        "X_rfe_train_smote_NUM_N = nscaler.fit_transform(X_rfe_train_smote_NUM)\n",
        "X_rfe_train_smote_COMBINED_N = np.concatenate((X_rfe_train_smote_NUM_N, X_rfe_train_smote[rfe_cat_features]), axis = 1)\n",
        "\n",
        "X_rfe_test_NUM_N = nscaler.transform(X_rfe_test_NUM)\n",
        "X_rfe_test_COMBINED_N = np.concatenate((X_rfe_test_NUM_N, X_rfe_test[rfe_cat_features]), axis = 1)"
      ],
      "metadata": {
        "id": "TdJP11PqoBTZ"
      },
      "execution_count": 26,
      "outputs": []
    },
    {
      "cell_type": "code",
      "source": [
        "%memit RFClassifier(X_train_smote_COMBINED_N, y_train_smote, X_test_COMBINED_N, y_test)"
      ],
      "metadata": {
        "colab": {
          "base_uri": "https://localhost:8080/"
        },
        "id": "QadQdmcJoHrI",
        "outputId": "73508109-72a6-4294-b0cb-a8b219f8e40a"
      },
      "execution_count": 27,
      "outputs": [
        {
          "output_type": "stream",
          "name": "stdout",
          "text": [
            "              precision    recall  f1-score   support\n",
            "\n",
            "           0       0.94      0.94      0.94      3137\n",
            "           1       0.68      0.65      0.66       562\n",
            "\n",
            "    accuracy                           0.90      3699\n",
            "   macro avg       0.81      0.80      0.80      3699\n",
            "weighted avg       0.90      0.90      0.90      3699\n",
            "\n",
            "[[2962  175]\n",
            " [ 198  364]]\n",
            "2.678173772000001\n",
            "peak memory: 351.00 MiB, increment: 24.73 MiB\n"
          ]
        }
      ]
    },
    {
      "cell_type": "code",
      "source": [
        "%memit RFClassifier(X_p_train_smote_COMBINED_N, y_p_train_smote, X_p_test_COMBINED_N, y_p_test)"
      ],
      "metadata": {
        "colab": {
          "base_uri": "https://localhost:8080/"
        },
        "id": "WNy7jX9ZoNQJ",
        "outputId": "a7bf4194-c4e6-4a03-a4b1-94cab68c6a8a"
      },
      "execution_count": 28,
      "outputs": [
        {
          "output_type": "stream",
          "name": "stdout",
          "text": [
            "              precision    recall  f1-score   support\n",
            "\n",
            "           0       0.95      0.91      0.93      3112\n",
            "           1       0.62      0.73      0.67       587\n",
            "\n",
            "    accuracy                           0.89      3699\n",
            "   macro avg       0.78      0.82      0.80      3699\n",
            "weighted avg       0.89      0.89      0.89      3699\n",
            "\n",
            "[[2847  265]\n",
            " [ 160  427]]\n",
            "3.1820316040000023\n",
            "peak memory: 342.43 MiB, increment: 18.68 MiB\n"
          ]
        }
      ]
    },
    {
      "cell_type": "code",
      "source": [
        "%memit RFClassifier(X_rf_train_smote_COMBINED_N, y_rf_train_smote, X_rf_test_COMBINED_N, y_rf_test)"
      ],
      "metadata": {
        "colab": {
          "base_uri": "https://localhost:8080/"
        },
        "id": "_heWKGfYoSv2",
        "outputId": "cf29e025-dad7-47e6-ceaa-ca7347423a7b"
      },
      "execution_count": 29,
      "outputs": [
        {
          "output_type": "stream",
          "name": "stdout",
          "text": [
            "              precision    recall  f1-score   support\n",
            "\n",
            "           0       0.94      0.93      0.93      3110\n",
            "           1       0.65      0.69      0.67       589\n",
            "\n",
            "    accuracy                           0.89      3699\n",
            "   macro avg       0.79      0.81      0.80      3699\n",
            "weighted avg       0.89      0.89      0.89      3699\n",
            "\n",
            "[[2889  221]\n",
            " [ 184  405]]\n",
            "2.538944445999988\n",
            "peak memory: 342.65 MiB, increment: 0.22 MiB\n"
          ]
        }
      ]
    },
    {
      "cell_type": "markdown",
      "source": [
        "Control features - Normalized Data"
      ],
      "metadata": {
        "id": "sxl6crbroWep"
      }
    },
    {
      "cell_type": "code",
      "source": [
        "%memit DTClassifier(X_train_smote_COMBINED_N, y_train_smote, X_test_COMBINED_N, y_test)"
      ],
      "metadata": {
        "colab": {
          "base_uri": "https://localhost:8080/"
        },
        "id": "u2cjEx1eoXH6",
        "outputId": "39dec1c9-03c0-4533-f099-0e12edfc826e"
      },
      "execution_count": 30,
      "outputs": [
        {
          "output_type": "stream",
          "name": "stdout",
          "text": [
            "              precision    recall  f1-score   support\n",
            "\n",
            "           0       0.93      0.90      0.92      3137\n",
            "           1       0.53      0.61      0.57       562\n",
            "\n",
            "    accuracy                           0.86      3699\n",
            "   macro avg       0.73      0.76      0.74      3699\n",
            "weighted avg       0.87      0.86      0.86      3699\n",
            "\n",
            "[[2834  303]\n",
            " [ 220  342]]\n",
            "0.2794547490000099\n",
            "peak memory: 345.46 MiB, increment: 0.08 MiB\n"
          ]
        }
      ]
    },
    {
      "cell_type": "code",
      "source": [
        "%memit RFClassifier(X_train_smote_COMBINED_N, y_train_smote, X_test_COMBINED_N, y_test)"
      ],
      "metadata": {
        "colab": {
          "base_uri": "https://localhost:8080/"
        },
        "id": "fi3CsfQXobZe",
        "outputId": "4f9d3482-4ff5-4c64-ae04-16b128577018"
      },
      "execution_count": 31,
      "outputs": [
        {
          "output_type": "stream",
          "name": "stdout",
          "text": [
            "              precision    recall  f1-score   support\n",
            "\n",
            "           0       0.94      0.94      0.94      3137\n",
            "           1       0.67      0.66      0.66       562\n",
            "\n",
            "    accuracy                           0.90      3699\n",
            "   macro avg       0.80      0.80      0.80      3699\n",
            "weighted avg       0.90      0.90      0.90      3699\n",
            "\n",
            "[[2950  187]\n",
            " [ 190  372]]\n",
            "2.986000734000001\n",
            "peak memory: 353.90 MiB, increment: 8.62 MiB\n"
          ]
        }
      ]
    },
    {
      "cell_type": "code",
      "source": [
        "%memit LRClassifier(X_train_smote_COMBINED_N, y_train_smote, X_test_COMBINED_N, y_test)"
      ],
      "metadata": {
        "colab": {
          "base_uri": "https://localhost:8080/"
        },
        "id": "cEl2nexIod7c",
        "outputId": "5196ffd4-1d72-47d5-a01d-953ac19c6584"
      },
      "execution_count": 32,
      "outputs": [
        {
          "output_type": "stream",
          "name": "stdout",
          "text": [
            "              precision    recall  f1-score   support\n",
            "\n",
            "           0       0.89      0.98      0.93      3137\n",
            "           1       0.74      0.31      0.44       562\n",
            "\n",
            "    accuracy                           0.88      3699\n",
            "   macro avg       0.82      0.65      0.69      3699\n",
            "weighted avg       0.87      0.88      0.86      3699\n",
            "\n",
            "[[3076   61]\n",
            " [ 386  176]]\n",
            "0.49620836100000076\n",
            "peak memory: 353.90 MiB, increment: 0.00 MiB\n"
          ]
        }
      ]
    },
    {
      "cell_type": "markdown",
      "source": [
        "Pearson correlation features - normalized data"
      ],
      "metadata": {
        "id": "GLlQQDoNogWq"
      }
    },
    {
      "cell_type": "code",
      "source": [
        "%memit DTClassifier(X_p_train_smote_COMBINED_N, y_p_train_smote, X_p_test_COMBINED_N, y_p_test)"
      ],
      "metadata": {
        "colab": {
          "base_uri": "https://localhost:8080/"
        },
        "id": "5mdTcpkSog3E",
        "outputId": "d02e4fd7-3e44-41e6-e8af-f0cc2ddeec85"
      },
      "execution_count": 33,
      "outputs": [
        {
          "output_type": "stream",
          "name": "stdout",
          "text": [
            "              precision    recall  f1-score   support\n",
            "\n",
            "           0       0.93      0.89      0.91      3112\n",
            "           1       0.52      0.64      0.57       587\n",
            "\n",
            "    accuracy                           0.85      3699\n",
            "   macro avg       0.73      0.76      0.74      3699\n",
            "weighted avg       0.86      0.85      0.86      3699\n",
            "\n",
            "[[2770  342]\n",
            " [ 213  374]]\n",
            "0.21775195600000075\n",
            "peak memory: 353.90 MiB, increment: 0.00 MiB\n"
          ]
        }
      ]
    },
    {
      "cell_type": "code",
      "source": [
        "%memit RFClassifier(X_p_train_smote_COMBINED_N, y_p_train_smote, X_p_test_COMBINED_N, y_p_test)"
      ],
      "metadata": {
        "colab": {
          "base_uri": "https://localhost:8080/"
        },
        "id": "q66Sg8NGolN2",
        "outputId": "2a122979-4d05-4e4a-93e1-ccf31734a0cb"
      },
      "execution_count": 34,
      "outputs": [
        {
          "output_type": "stream",
          "name": "stdout",
          "text": [
            "              precision    recall  f1-score   support\n",
            "\n",
            "           0       0.95      0.91      0.93      3112\n",
            "           1       0.62      0.74      0.67       587\n",
            "\n",
            "    accuracy                           0.89      3699\n",
            "   macro avg       0.78      0.83      0.80      3699\n",
            "weighted avg       0.90      0.89      0.89      3699\n",
            "\n",
            "[[2847  265]\n",
            " [ 154  433]]\n",
            "3.336997882999995\n",
            "peak memory: 353.91 MiB, increment: 0.00 MiB\n"
          ]
        }
      ]
    },
    {
      "cell_type": "code",
      "source": [
        "%memit LRClassifier(X_p_train_smote_COMBINED_N, y_p_train_smote, X_p_test_COMBINED_N, y_p_test)"
      ],
      "metadata": {
        "colab": {
          "base_uri": "https://localhost:8080/"
        },
        "id": "j9o7SOzLonu8",
        "outputId": "6b6204a5-2408-46a8-9dd1-c97c4b3e32ea"
      },
      "execution_count": 35,
      "outputs": [
        {
          "output_type": "stream",
          "name": "stdout",
          "text": [
            "              precision    recall  f1-score   support\n",
            "\n",
            "           0       0.92      0.88      0.90      3112\n",
            "           1       0.48      0.62      0.54       587\n",
            "\n",
            "    accuracy                           0.83      3699\n",
            "   macro avg       0.70      0.75      0.72      3699\n",
            "weighted avg       0.85      0.83      0.84      3699\n",
            "\n",
            "[[2723  389]\n",
            " [ 223  364]]\n",
            "0.19465730099999234\n",
            "peak memory: 353.91 MiB, increment: 0.00 MiB\n"
          ]
        }
      ]
    },
    {
      "cell_type": "markdown",
      "source": [
        "Random Forest features - normalized data"
      ],
      "metadata": {
        "id": "OSf7aqzWoqWX"
      }
    },
    {
      "cell_type": "code",
      "source": [
        "%memit DTClassifier(X_rf_train_smote_COMBINED_N, y_rf_train_smote, X_rf_test_COMBINED_N, y_rf_test)"
      ],
      "metadata": {
        "colab": {
          "base_uri": "https://localhost:8080/"
        },
        "id": "1hantpoPoq1u",
        "outputId": "b3460963-f5e1-400f-ac32-f2e4597246d6"
      },
      "execution_count": 36,
      "outputs": [
        {
          "output_type": "stream",
          "name": "stdout",
          "text": [
            "              precision    recall  f1-score   support\n",
            "\n",
            "           0       0.93      0.90      0.91      3110\n",
            "           1       0.53      0.62      0.57       589\n",
            "\n",
            "    accuracy                           0.85      3699\n",
            "   macro avg       0.73      0.76      0.74      3699\n",
            "weighted avg       0.86      0.85      0.86      3699\n",
            "\n",
            "[[2786  324]\n",
            " [ 222  367]]\n",
            "0.22273303000000055\n",
            "peak memory: 353.91 MiB, increment: 0.00 MiB\n"
          ]
        }
      ]
    },
    {
      "cell_type": "code",
      "source": [
        "%memit RFClassifier(X_rf_train_smote_COMBINED_N, y_rf_train_smote, X_rf_test_COMBINED_N, y_rf_test)"
      ],
      "metadata": {
        "colab": {
          "base_uri": "https://localhost:8080/"
        },
        "id": "Zlm5o023outr",
        "outputId": "37ae0ab1-6efe-4792-838b-8c048366903d"
      },
      "execution_count": 37,
      "outputs": [
        {
          "output_type": "stream",
          "name": "stdout",
          "text": [
            "              precision    recall  f1-score   support\n",
            "\n",
            "           0       0.94      0.93      0.94      3110\n",
            "           1       0.66      0.69      0.67       589\n",
            "\n",
            "    accuracy                           0.89      3699\n",
            "   macro avg       0.80      0.81      0.81      3699\n",
            "weighted avg       0.90      0.89      0.89      3699\n",
            "\n",
            "[[2898  212]\n",
            " [ 181  408]]\n",
            "2.5844461160000094\n",
            "peak memory: 353.91 MiB, increment: 0.00 MiB\n"
          ]
        }
      ]
    },
    {
      "cell_type": "code",
      "source": [
        "%memit LRClassifier(X_rf_train_smote_COMBINED_N, y_rf_train_smote, X_rf_test_COMBINED_N, y_rf_test)"
      ],
      "metadata": {
        "colab": {
          "base_uri": "https://localhost:8080/"
        },
        "id": "AgFy37ZPo0Cc",
        "outputId": "2df8588c-f202-46b8-ae88-04b680d15ade"
      },
      "execution_count": 38,
      "outputs": [
        {
          "output_type": "stream",
          "name": "stdout",
          "text": [
            "              precision    recall  f1-score   support\n",
            "\n",
            "           0       0.91      0.94      0.92      3110\n",
            "           1       0.61      0.49      0.54       589\n",
            "\n",
            "    accuracy                           0.87      3699\n",
            "   macro avg       0.76      0.72      0.73      3699\n",
            "weighted avg       0.86      0.87      0.86      3699\n",
            "\n",
            "[[2921  189]\n",
            " [ 298  291]]\n",
            "0.31924783199998785\n",
            "peak memory: 353.91 MiB, increment: 0.00 MiB\n"
          ]
        }
      ]
    },
    {
      "cell_type": "markdown",
      "source": [
        "Recursive Feature Elimination - normalized data"
      ],
      "metadata": {
        "id": "DrP2bo11o3Dj"
      }
    },
    {
      "cell_type": "code",
      "source": [
        "%memit DTClassifier(X_rfe_train_smote_COMBINED_N, y_rfe_train_smote, X_rfe_test_COMBINED_N, y_rfe_test)"
      ],
      "metadata": {
        "colab": {
          "base_uri": "https://localhost:8080/"
        },
        "id": "IJAj_IpVo3v0",
        "outputId": "64b0f032-c4a9-4d8b-a44a-4514d910fdda"
      },
      "execution_count": 39,
      "outputs": [
        {
          "output_type": "stream",
          "name": "stdout",
          "text": [
            "              precision    recall  f1-score   support\n",
            "\n",
            "           0       0.87      0.75      0.80      3102\n",
            "           1       0.24      0.42      0.30       597\n",
            "\n",
            "    accuracy                           0.69      3699\n",
            "   macro avg       0.55      0.58      0.55      3699\n",
            "weighted avg       0.77      0.69      0.72      3699\n",
            "\n",
            "[[2317  785]\n",
            " [ 349  248]]\n",
            "0.13981943900000715\n",
            "peak memory: 353.91 MiB, increment: 0.00 MiB\n"
          ]
        }
      ]
    },
    {
      "cell_type": "code",
      "source": [
        "%memit RFClassifier(X_rfe_train_smote_COMBINED_N, y_rfe_train_smote, X_rfe_test_COMBINED_N, y_rfe_test)"
      ],
      "metadata": {
        "colab": {
          "base_uri": "https://localhost:8080/"
        },
        "id": "KuNfJLW-o7rA",
        "outputId": "7546c241-2063-4954-a089-d87b25be6705"
      },
      "execution_count": 40,
      "outputs": [
        {
          "output_type": "stream",
          "name": "stdout",
          "text": [
            "              precision    recall  f1-score   support\n",
            "\n",
            "           0       0.88      0.78      0.83      3102\n",
            "           1       0.29      0.46      0.35       597\n",
            "\n",
            "    accuracy                           0.73      3699\n",
            "   macro avg       0.58      0.62      0.59      3699\n",
            "weighted avg       0.79      0.73      0.75      3699\n",
            "\n",
            "[[2417  685]\n",
            " [ 322  275]]\n",
            "2.230331288000002\n",
            "peak memory: 373.25 MiB, increment: 19.34 MiB\n"
          ]
        }
      ]
    },
    {
      "cell_type": "code",
      "source": [
        "%memit LRClassifier(X_rfe_train_smote_COMBINED_N, y_rfe_train_smote, X_rfe_test_COMBINED_N, y_rfe_test)"
      ],
      "metadata": {
        "colab": {
          "base_uri": "https://localhost:8080/"
        },
        "id": "CJ1ZZplZo-1N",
        "outputId": "71bffa7b-84b5-4ade-d066-d70134f604bb"
      },
      "execution_count": 41,
      "outputs": [
        {
          "output_type": "stream",
          "name": "stdout",
          "text": [
            "              precision    recall  f1-score   support\n",
            "\n",
            "           0       0.93      0.60      0.73      3102\n",
            "           1       0.27      0.78      0.40       597\n",
            "\n",
            "    accuracy                           0.63      3699\n",
            "   macro avg       0.60      0.69      0.57      3699\n",
            "weighted avg       0.83      0.63      0.68      3699\n",
            "\n",
            "[[1851 1251]\n",
            " [ 131  466]]\n",
            "0.23683189199999788\n",
            "peak memory: 356.69 MiB, increment: 0.01 MiB\n"
          ]
        }
      ]
    },
    {
      "cell_type": "markdown",
      "source": [
        "Data Standardization"
      ],
      "metadata": {
        "id": "74nxL5sMpBUL"
      }
    },
    {
      "cell_type": "code",
      "source": [
        "sscaler = StandardScaler()\n",
        "\n",
        "#Scaling control\n",
        "X_train_smote_NUM_S = sscaler.fit_transform(X_train_smote_NUM)\n",
        "X_train_smote_COMBINED_S = np.concatenate((X_train_smote_NUM_S, X_train_smote[cat_features]), axis = 1)\n",
        "\n",
        "X_test_NUM_S = sscaler.transform(X_test_NUM)\n",
        "X_test_COMBINED_S = np.concatenate((X_test_NUM_S, X_test[cat_features]), axis = 1)\n",
        "\n",
        "#Scaling Pearson correlation features\n",
        "X_p_train_smote_NUM_S = sscaler.fit_transform(X_p_train_smote_NUM)\n",
        "X_p_train_smote_COMBINED_S = np.concatenate((X_p_train_smote_NUM_S, X_p_train_smote[p_cat_features]), axis = 1)\n",
        "\n",
        "X_p_test_NUM_S = sscaler.transform(X_p_test_NUM)\n",
        "X_p_test_COMBINED_S = np.concatenate((X_p_test_NUM_S, X_p_test[p_cat_features]), axis = 1)\n",
        "\n",
        "#Scaling Random Forest features\n",
        "X_rf_train_smote_NUM_S = sscaler.fit_transform(X_rf_train_smote_NUM)\n",
        "X_rf_train_smote_COMBINED_S = np.concatenate((X_rf_train_smote_NUM_S, X_rf_train_smote[rf_cat_features]), axis = 1)\n",
        "\n",
        "X_rf_test_NUM_S = sscaler.transform(X_rf_test_NUM)\n",
        "X_rf_test_COMBINED_S = np.concatenate((X_rf_test_NUM_S, X_rf_test[rf_cat_features]), axis = 1)\n",
        "\n",
        "#Scaling Recursive Feature Elimination features\n",
        "X_rfe_train_smote_NUM_S = sscaler.fit_transform(X_rfe_train_smote_NUM)\n",
        "X_rfe_train_smote_COMBINED_S = np.concatenate((X_rfe_train_smote_NUM_S, X_rfe_train_smote[rfe_cat_features]), axis = 1)\n",
        "\n",
        "X_rfe_test_NUM_S = sscaler.transform(X_rfe_test_NUM)\n",
        "X_rfe_test_COMBINED_S = np.concatenate((X_rfe_test_NUM_S, X_rfe_test[rfe_cat_features]), axis = 1)\n",
        "%memit RFClassifier(X_train_smote_COMBINED_S, y_train_smote, X_test_COMBINED_S, y_test)"
      ],
      "metadata": {
        "colab": {
          "base_uri": "https://localhost:8080/"
        },
        "id": "V0q3IyQvpB3N",
        "outputId": "2a62036b-cd0c-4847-9e7b-d824a929b6ed"
      },
      "execution_count": 42,
      "outputs": [
        {
          "output_type": "stream",
          "name": "stdout",
          "text": [
            "              precision    recall  f1-score   support\n",
            "\n",
            "           0       0.94      0.94      0.94      3137\n",
            "           1       0.67      0.67      0.67       562\n",
            "\n",
            "    accuracy                           0.90      3699\n",
            "   macro avg       0.81      0.80      0.81      3699\n",
            "weighted avg       0.90      0.90      0.90      3699\n",
            "\n",
            "[[2956  181]\n",
            " [ 188  374]]\n",
            "3.061092303999999\n",
            "peak memory: 376.74 MiB, increment: 20.05 MiB\n"
          ]
        }
      ]
    },
    {
      "cell_type": "code",
      "source": [
        "%memit RFClassifier(X_p_train_smote_COMBINED_S, y_p_train_smote, X_p_test_COMBINED_S, y_p_test)"
      ],
      "metadata": {
        "colab": {
          "base_uri": "https://localhost:8080/"
        },
        "id": "E6SAV0cQpHEq",
        "outputId": "4b65ed88-8066-4eb9-d17b-4aa92a565391"
      },
      "execution_count": 43,
      "outputs": [
        {
          "output_type": "stream",
          "name": "stdout",
          "text": [
            "              precision    recall  f1-score   support\n",
            "\n",
            "           0       0.94      0.92      0.93      3112\n",
            "           1       0.62      0.71      0.66       587\n",
            "\n",
            "    accuracy                           0.88      3699\n",
            "   macro avg       0.78      0.81      0.80      3699\n",
            "weighted avg       0.89      0.88      0.89      3699\n",
            "\n",
            "[[2852  260]\n",
            " [ 169  418]]\n",
            "2.5837347960000017\n",
            "peak memory: 376.74 MiB, increment: 0.00 MiB\n"
          ]
        }
      ]
    },
    {
      "cell_type": "code",
      "source": [
        "%memit RFClassifier(X_rf_train_smote_COMBINED_S, y_rf_train_smote, X_rf_test_COMBINED_S, y_rf_test)"
      ],
      "metadata": {
        "colab": {
          "base_uri": "https://localhost:8080/"
        },
        "id": "u2kmyR-5pLbM",
        "outputId": "abe11f55-515b-4004-c792-1c5d24ffe342"
      },
      "execution_count": 44,
      "outputs": [
        {
          "output_type": "stream",
          "name": "stdout",
          "text": [
            "              precision    recall  f1-score   support\n",
            "\n",
            "           0       0.94      0.94      0.94      3110\n",
            "           1       0.67      0.69      0.68       589\n",
            "\n",
            "    accuracy                           0.90      3699\n",
            "   macro avg       0.80      0.81      0.81      3699\n",
            "weighted avg       0.90      0.90      0.90      3699\n",
            "\n",
            "[[2909  201]\n",
            " [ 185  404]]\n",
            "2.5904957519999954\n",
            "peak memory: 367.74 MiB, increment: 14.02 MiB\n"
          ]
        }
      ]
    },
    {
      "cell_type": "markdown",
      "source": [
        "Control data - Standardized data"
      ],
      "metadata": {
        "id": "VbIdEZJDpOlV"
      }
    },
    {
      "cell_type": "code",
      "source": [
        "%memit DTClassifier(X_train_smote_COMBINED_S, y_train_smote, X_test_COMBINED_S, y_test)"
      ],
      "metadata": {
        "colab": {
          "base_uri": "https://localhost:8080/"
        },
        "id": "MW3zuDEYpPSy",
        "outputId": "8996b86e-066e-4b80-b219-79947c205f91"
      },
      "execution_count": 45,
      "outputs": [
        {
          "output_type": "stream",
          "name": "stdout",
          "text": [
            "              precision    recall  f1-score   support\n",
            "\n",
            "           0       0.93      0.90      0.92      3137\n",
            "           1       0.54      0.62      0.57       562\n",
            "\n",
            "    accuracy                           0.86      3699\n",
            "   macro avg       0.73      0.76      0.75      3699\n",
            "weighted avg       0.87      0.86      0.86      3699\n",
            "\n",
            "[[2838  299]\n",
            " [ 215  347]]\n",
            "0.28551911999998936\n",
            "peak memory: 367.74 MiB, increment: 0.00 MiB\n"
          ]
        }
      ]
    },
    {
      "cell_type": "code",
      "source": [
        "%memit RFClassifier(X_train_smote_COMBINED_S, y_train_smote, X_test_COMBINED_S, y_test)"
      ],
      "metadata": {
        "colab": {
          "base_uri": "https://localhost:8080/"
        },
        "id": "shbnpIYfpTxw",
        "outputId": "c5ea3b4c-47c5-480c-a087-a65c71cba3b4"
      },
      "execution_count": 46,
      "outputs": [
        {
          "output_type": "stream",
          "name": "stdout",
          "text": [
            "              precision    recall  f1-score   support\n",
            "\n",
            "           0       0.94      0.94      0.94      3137\n",
            "           1       0.67      0.65      0.66       562\n",
            "\n",
            "    accuracy                           0.90      3699\n",
            "   macro avg       0.80      0.80      0.80      3699\n",
            "weighted avg       0.90      0.90      0.90      3699\n",
            "\n",
            "[[2953  184]\n",
            " [ 196  366]]\n",
            "2.4525311940000023\n",
            "peak memory: 376.55 MiB, increment: 8.81 MiB\n"
          ]
        }
      ]
    },
    {
      "cell_type": "code",
      "source": [
        "%memit LRClassifier(X_train_smote_COMBINED_S, y_train_smote, X_test_COMBINED_S, y_test)"
      ],
      "metadata": {
        "colab": {
          "base_uri": "https://localhost:8080/"
        },
        "id": "n60lCJ6QpWWW",
        "outputId": "dc6e7d12-5433-4042-acfa-4e4d7163b863"
      },
      "execution_count": 47,
      "outputs": [
        {
          "output_type": "stream",
          "name": "stdout",
          "text": [
            "              precision    recall  f1-score   support\n",
            "\n",
            "           0       0.90      0.98      0.94      3137\n",
            "           1       0.75      0.41      0.53       562\n",
            "\n",
            "    accuracy                           0.89      3699\n",
            "   macro avg       0.82      0.69      0.73      3699\n",
            "weighted avg       0.88      0.89      0.87      3699\n",
            "\n",
            "[[3059   78]\n",
            " [ 334  228]]\n",
            "0.49734107499999425\n",
            "peak memory: 376.55 MiB, increment: 0.00 MiB\n"
          ]
        }
      ]
    },
    {
      "cell_type": "markdown",
      "source": [
        "Pearson Correlation"
      ],
      "metadata": {
        "id": "HU5MnpgMpZKc"
      }
    },
    {
      "cell_type": "code",
      "source": [
        "%memit DTClassifier(X_p_train_smote_COMBINED_S, y_p_train_smote, X_p_test_COMBINED_S, y_p_test)"
      ],
      "metadata": {
        "colab": {
          "base_uri": "https://localhost:8080/"
        },
        "id": "knpy85ZMpZxP",
        "outputId": "ee179dbc-bcc7-4167-ea63-fd96ba419e10"
      },
      "execution_count": 48,
      "outputs": [
        {
          "output_type": "stream",
          "name": "stdout",
          "text": [
            "              precision    recall  f1-score   support\n",
            "\n",
            "           0       0.93      0.89      0.91      3112\n",
            "           1       0.52      0.64      0.57       587\n",
            "\n",
            "    accuracy                           0.85      3699\n",
            "   macro avg       0.73      0.76      0.74      3699\n",
            "weighted avg       0.86      0.85      0.86      3699\n",
            "\n",
            "[[2772  340]\n",
            " [ 214  373]]\n",
            "0.21296215899999993\n",
            "peak memory: 376.56 MiB, increment: 0.01 MiB\n"
          ]
        }
      ]
    },
    {
      "cell_type": "code",
      "source": [
        "%memit RFClassifier(X_p_train_smote_COMBINED_S, y_p_train_smote, X_p_test_COMBINED_S, y_p_test)"
      ],
      "metadata": {
        "colab": {
          "base_uri": "https://localhost:8080/"
        },
        "id": "uUlBAztepe0O",
        "outputId": "b97fcced-e296-4b1d-a9d1-8dde0713f7cd"
      },
      "execution_count": 49,
      "outputs": [
        {
          "output_type": "stream",
          "name": "stdout",
          "text": [
            "              precision    recall  f1-score   support\n",
            "\n",
            "           0       0.95      0.91      0.93      3112\n",
            "           1       0.62      0.72      0.67       587\n",
            "\n",
            "    accuracy                           0.88      3699\n",
            "   macro avg       0.78      0.82      0.80      3699\n",
            "weighted avg       0.89      0.88      0.89      3699\n",
            "\n",
            "[[2847  265]\n",
            " [ 162  425]]\n",
            "3.540131871\n",
            "peak memory: 376.56 MiB, increment: 0.00 MiB\n"
          ]
        }
      ]
    },
    {
      "cell_type": "code",
      "source": [
        "%memit LRClassifier(X_p_train_smote_COMBINED_S, y_p_train_smote, X_p_test_COMBINED_S, y_p_test)"
      ],
      "metadata": {
        "colab": {
          "base_uri": "https://localhost:8080/"
        },
        "id": "qtdl2qhCpjjv",
        "outputId": "e62475e3-d41f-4995-dbbd-9bc4772059c1"
      },
      "execution_count": 50,
      "outputs": [
        {
          "output_type": "stream",
          "name": "stdout",
          "text": [
            "              precision    recall  f1-score   support\n",
            "\n",
            "           0       0.93      0.89      0.91      3112\n",
            "           1       0.54      0.66      0.59       587\n",
            "\n",
            "    accuracy                           0.86      3699\n",
            "   macro avg       0.74      0.78      0.75      3699\n",
            "weighted avg       0.87      0.86      0.86      3699\n",
            "\n",
            "[[2784  328]\n",
            " [ 200  387]]\n",
            "0.11496835799999872\n",
            "peak memory: 376.56 MiB, increment: 0.00 MiB\n"
          ]
        }
      ]
    },
    {
      "cell_type": "markdown",
      "source": [
        "Random Forest features - standardized data"
      ],
      "metadata": {
        "id": "eJ5m7BW_pmBU"
      }
    },
    {
      "cell_type": "code",
      "source": [
        "%memit DTClassifier(X_rf_train_smote_COMBINED_S, y_rf_train_smote, X_rf_test_COMBINED_S, y_rf_test)"
      ],
      "metadata": {
        "colab": {
          "base_uri": "https://localhost:8080/"
        },
        "id": "kPCWko7cpmfO",
        "outputId": "f01c0853-3638-4b80-9fbd-292e38ae1507"
      },
      "execution_count": 51,
      "outputs": [
        {
          "output_type": "stream",
          "name": "stdout",
          "text": [
            "              precision    recall  f1-score   support\n",
            "\n",
            "           0       0.93      0.90      0.91      3110\n",
            "           1       0.54      0.63      0.58       589\n",
            "\n",
            "    accuracy                           0.86      3699\n",
            "   macro avg       0.74      0.77      0.75      3699\n",
            "weighted avg       0.87      0.86      0.86      3699\n",
            "\n",
            "[[2799  311]\n",
            " [ 217  372]]\n",
            "0.2193604289999911\n",
            "peak memory: 376.56 MiB, increment: 0.00 MiB\n"
          ]
        }
      ]
    },
    {
      "cell_type": "code",
      "source": [
        "%memit RFClassifier(X_rf_train_smote_COMBINED_S, y_rf_train_smote, X_rf_test_COMBINED_S, y_rf_test)"
      ],
      "metadata": {
        "colab": {
          "base_uri": "https://localhost:8080/"
        },
        "id": "k_r7ZmC_pq5B",
        "outputId": "f1b3cf7d-8e18-4eb1-bf7d-161a51eced4c"
      },
      "execution_count": 52,
      "outputs": [
        {
          "output_type": "stream",
          "name": "stdout",
          "text": [
            "              precision    recall  f1-score   support\n",
            "\n",
            "           0       0.94      0.93      0.94      3110\n",
            "           1       0.66      0.69      0.67       589\n",
            "\n",
            "    accuracy                           0.89      3699\n",
            "   macro avg       0.80      0.81      0.80      3699\n",
            "weighted avg       0.89      0.89      0.89      3699\n",
            "\n",
            "[[2898  212]\n",
            " [ 185  404]]\n",
            "3.300864838999999\n",
            "peak memory: 376.56 MiB, increment: 0.00 MiB\n"
          ]
        }
      ]
    },
    {
      "cell_type": "code",
      "source": [
        "%memit LRClassifier(X_rf_train_smote_COMBINED_S, y_rf_train_smote, X_rf_test_COMBINED_S, y_rf_test)"
      ],
      "metadata": {
        "colab": {
          "base_uri": "https://localhost:8080/"
        },
        "id": "gs0uYnfpptlG",
        "outputId": "abcdd1a8-d24a-40db-97fb-2c578859c19e"
      },
      "execution_count": 53,
      "outputs": [
        {
          "output_type": "stream",
          "name": "stdout",
          "text": [
            "              precision    recall  f1-score   support\n",
            "\n",
            "           0       0.92      0.94      0.93      3110\n",
            "           1       0.64      0.54      0.59       589\n",
            "\n",
            "    accuracy                           0.88      3699\n",
            "   macro avg       0.78      0.74      0.76      3699\n",
            "weighted avg       0.87      0.88      0.88      3699\n",
            "\n",
            "[[2932  178]\n",
            " [ 268  321]]\n",
            "0.25233621099999937\n",
            "peak memory: 376.56 MiB, increment: 0.00 MiB\n"
          ]
        }
      ]
    },
    {
      "cell_type": "markdown",
      "source": [
        "Recursive Feature Elimination features - standardized data"
      ],
      "metadata": {
        "id": "DLWgebdUpx9C"
      }
    },
    {
      "cell_type": "code",
      "source": [
        "%memit DTClassifier(X_rfe_train_smote_COMBINED_S, y_rfe_train_smote, X_rfe_test_COMBINED_S, y_rfe_test)"
      ],
      "metadata": {
        "colab": {
          "base_uri": "https://localhost:8080/"
        },
        "id": "tTyHLYiRpyk5",
        "outputId": "b3d8c7f9-64f4-4fa1-a16f-8b45627c9d8b"
      },
      "execution_count": 54,
      "outputs": [
        {
          "output_type": "stream",
          "name": "stdout",
          "text": [
            "              precision    recall  f1-score   support\n",
            "\n",
            "           0       0.87      0.74      0.80      3102\n",
            "           1       0.24      0.42      0.31       597\n",
            "\n",
            "    accuracy                           0.69      3699\n",
            "   macro avg       0.55      0.58      0.55      3699\n",
            "weighted avg       0.77      0.69      0.72      3699\n",
            "\n",
            "[[2300  802]\n",
            " [ 345  252]]\n",
            "0.1390289379999956\n",
            "peak memory: 376.57 MiB, increment: 0.00 MiB\n"
          ]
        }
      ]
    },
    {
      "cell_type": "code",
      "source": [
        "%memit RFClassifier(X_rfe_train_smote_COMBINED_S, y_rfe_train_smote, X_rfe_test_COMBINED_S, y_rfe_test)"
      ],
      "metadata": {
        "colab": {
          "base_uri": "https://localhost:8080/"
        },
        "id": "IhIdbg2ep2-7",
        "outputId": "f7bec058-40cb-4256-e135-768b997bec4e"
      },
      "execution_count": 55,
      "outputs": [
        {
          "output_type": "stream",
          "name": "stdout",
          "text": [
            "              precision    recall  f1-score   support\n",
            "\n",
            "           0       0.88      0.78      0.83      3102\n",
            "           1       0.28      0.46      0.35       597\n",
            "\n",
            "    accuracy                           0.73      3699\n",
            "   macro avg       0.58      0.62      0.59      3699\n",
            "weighted avg       0.78      0.73      0.75      3699\n",
            "\n",
            "[[2409  693]\n",
            " [ 324  273]]\n",
            "2.7504613509999984\n",
            "peak memory: 396.04 MiB, increment: 19.47 MiB\n"
          ]
        }
      ]
    },
    {
      "cell_type": "code",
      "source": [
        "%memit LRClassifier(X_rfe_train_smote_COMBINED_S, y_rfe_train_smote, X_rfe_test_COMBINED_S, y_rfe_test)"
      ],
      "metadata": {
        "colab": {
          "base_uri": "https://localhost:8080/"
        },
        "id": "Ik9x1NcEp5po",
        "outputId": "a7c35299-0e76-41a2-d188-b9088b7a6cef"
      },
      "execution_count": 56,
      "outputs": [
        {
          "output_type": "stream",
          "name": "stdout",
          "text": [
            "              precision    recall  f1-score   support\n",
            "\n",
            "           0       0.93      0.60      0.73      3102\n",
            "           1       0.27      0.78      0.40       597\n",
            "\n",
            "    accuracy                           0.63      3699\n",
            "   macro avg       0.60      0.69      0.57      3699\n",
            "weighted avg       0.83      0.63      0.68      3699\n",
            "\n",
            "[[1864 1238]\n",
            " [ 133  464]]\n",
            "0.24170232599999508\n",
            "peak memory: 379.61 MiB, increment: 0.00 MiB\n"
          ]
        }
      ]
    }
  ]
}