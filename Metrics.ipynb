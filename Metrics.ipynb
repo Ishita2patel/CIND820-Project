{
  "nbformat": 4,
  "nbformat_minor": 0,
  "metadata": {
    "colab": {
      "provenance": [],
      "authorship_tag": "ABX9TyPVDkzO+0tpPrOfPMRvTKa7",
      "include_colab_link": true
    },
    "kernelspec": {
      "name": "python3",
      "display_name": "Python 3"
    },
    "language_info": {
      "name": "python"
    }
  },
  "cells": [
    {
      "cell_type": "markdown",
      "metadata": {
        "id": "view-in-github",
        "colab_type": "text"
      },
      "source": [
        "<a href=\"https://colab.research.google.com/github/Ishita2patel/CIND820-Project/blob/main/Metrics.ipynb\" target=\"_parent\"><img src=\"https://colab.research.google.com/assets/colab-badge.svg\" alt=\"Open In Colab\"/></a>"
      ]
    },
    {
      "cell_type": "code",
      "source": [
        "pip install memory-profiler"
      ],
      "metadata": {
        "id": "4RHAroO_i6-y",
        "outputId": "39d953e6-a64d-442e-8253-d67d843b6123",
        "colab": {
          "base_uri": "https://localhost:8080/"
        }
      },
      "execution_count": 1,
      "outputs": [
        {
          "output_type": "stream",
          "name": "stdout",
          "text": [
            "Collecting memory-profiler\n",
            "  Downloading memory_profiler-0.61.0-py3-none-any.whl.metadata (20 kB)\n",
            "Requirement already satisfied: psutil in /usr/local/lib/python3.10/dist-packages (from memory-profiler) (5.9.5)\n",
            "Downloading memory_profiler-0.61.0-py3-none-any.whl (31 kB)\n",
            "Installing collected packages: memory-profiler\n",
            "Successfully installed memory-profiler-0.61.0\n"
          ]
        }
      ]
    },
    {
      "cell_type": "code",
      "source": [
        "#Data processing\n",
        "from sklearn.preprocessing import OneHotEncoder\n",
        "from sklearn.preprocessing import LabelEncoder\n",
        "\n",
        "from imblearn.over_sampling import SMOTE\n",
        "\n",
        "from sklearn.model_selection import train_test_split\n",
        "from sklearn.compose import ColumnTransformer\n",
        "\n",
        "#Model performance metrics\n",
        "from time import process_time\n",
        "from memory_profiler import profile\n",
        "from sklearn.metrics import confusion_matrix\n",
        "from sklearn.metrics import classification_report\n",
        "\n",
        "#Feature selection and models\n",
        "from sklearn.tree import DecisionTreeClassifier\n",
        "from sklearn.ensemble import RandomForestClassifier\n",
        "from sklearn.linear_model import LogisticRegression\n",
        "from sklearn.feature_selection import RFE\n",
        "\n",
        "#Data scaling\n",
        "from sklearn.preprocessing import MinMaxScaler\n",
        "from sklearn.preprocessing import StandardScaler"
      ],
      "metadata": {
        "id": "jdtzaVA9imVq"
      },
      "execution_count": 2,
      "outputs": []
    },
    {
      "cell_type": "code",
      "source": [
        "%load_ext memory_profiler"
      ],
      "metadata": {
        "id": "9U3pqHOzjAFW"
      },
      "execution_count": 3,
      "outputs": []
    },
    {
      "cell_type": "code",
      "source": [
        "#Additional Metrics\n",
        "from sklearn.metrics import brier_score_loss\n",
        "from sklearn.metrics import matthews_corrcoef"
      ],
      "metadata": {
        "id": "6QVzGqQ56ghH"
      },
      "execution_count": 4,
      "outputs": []
    },
    {
      "cell_type": "markdown",
      "source": [
        "Random Forest Model"
      ],
      "metadata": {
        "id": "HG9ani6p6mnl"
      }
    },
    {
      "cell_type": "code",
      "source": [
        "#Random Forest Model\n",
        "def RFClassifier(X_train, y_train, X_test, y_test):\n",
        "  #Initialize the Random Forest Classifier\n",
        "  forest_raw_imbalanced = RandomForestClassifier(n_estimators = 100)\n",
        "\n",
        "  #Time Measurement\n",
        "  start_time = process_time()\n",
        "\n",
        "  #Fit the classifier to the data\n",
        "  forest_raw_imbalanced.fit(X_train, y_train)\n",
        "\n",
        "  #Predict new Data\n",
        "  y_pred = forest_raw_imbalanced.predict(X_test)\n",
        "\n",
        "  #Time Measurement\n",
        "  end_time = process_time()\n",
        "\n",
        "  #Results\n",
        "  cr = classification_report(y_test, y_pred)\n",
        "  cm = confusion_matrix(y_test, y_pred)\n",
        "  time = end_time - start_time\n",
        "  print(cr)\n",
        "  print(cm)\n",
        "  print(time)"
      ],
      "metadata": {
        "id": "TJX_KOu16iWy"
      },
      "execution_count": 5,
      "outputs": []
    },
    {
      "cell_type": "markdown",
      "source": [
        "Modified Models to include SMOTE and standardization"
      ],
      "metadata": {
        "id": "lxT2pflJ60Q7"
      }
    },
    {
      "cell_type": "code",
      "source": [
        "#Random Forest function\n",
        "def RFClassifierMOD(X_train, y_train, X_test, y_test, numeric_attributes, cat_attributes, num_estimators):\n",
        "  #Initialize the DecisionTreeClassifier\n",
        "  forest_raw_imbalanced = RandomForestClassifier(n_estimators = num_estimators)\n",
        "\n",
        "  #Time Measurement\n",
        "  start_time = process_time()\n",
        "\n",
        "  #Data preprocessing\n",
        "  smote = SMOTE()\n",
        "  X_train_smote, y_train_smote = smote.fit_resample(X_train, y_train)\n",
        "\n",
        "  # Subset the numeric attributes\n",
        "  X_train_smote_numeric = X_train_smote[numeric_attributes]\n",
        "  X_test_numeric = X_test[numeric_attributes]\n",
        "\n",
        "  scaler = StandardScaler()\n",
        "  X_train_smote_S = scaler.fit_transform(X_train_smote_numeric)\n",
        "  X_test_numeric_S = scaler.transform(X_test_numeric)\n",
        "\n",
        "  # Concatenate the standardized numeric attributes with the categorical attributes\n",
        "  X_train_combined = np.concatenate((X_train_smote_S, X_train_smote[cat_attributes]), axis=1)\n",
        "  X_test_combined = np.concatenate((X_test_numeric_S, X_test[cat_attributes]), axis=1)\n",
        "\n",
        "  #Fit the Classifier to the data\n",
        "  forest_raw_imbalanced.fit(X_train_combined, y_train_smote)\n",
        "\n",
        "  #Predict new Data\n",
        "  y_pred = forest_raw_imbalanced.predict(X_test_combined)\n",
        "\n",
        "  #Time Measurement\n",
        "  end_time = process_time()\n",
        "\n",
        "  #Results\n",
        "  cr = classification_report(y_test, y_pred)\n",
        "  cm = confusion_matrix(y_test, y_pred)\n",
        "  time = end_time - start_time\n",
        "  print(cr)\n",
        "  print(cm)\n",
        "  mcc = matthews_corrcoef(y_test, y_pred)\n",
        "  brier_score = brier_score_loss(y_test, y_pred)\n",
        "  print(\"Matthew's Correlation\", mcc)\n",
        "  print(\"Brier's Score\", brier_score)\n",
        "  print(time)"
      ],
      "metadata": {
        "id": "_FrKZEXu6pp5"
      },
      "execution_count": 6,
      "outputs": []
    },
    {
      "cell_type": "markdown",
      "source": [
        "Crossvalidation Models"
      ],
      "metadata": {
        "id": "DTQrvHDb63w5"
      }
    },
    {
      "cell_type": "code",
      "source": [
        "from sklearn.model_selection import cross_val_score\n",
        "from sklearn.model_selection import KFold\n",
        "from sklearn.model_selection import TimeSeriesSplit"
      ],
      "metadata": {
        "id": "SznarCiZ6xG-"
      },
      "execution_count": 7,
      "outputs": []
    },
    {
      "cell_type": "markdown",
      "source": [
        "K-Fold Validation Models"
      ],
      "metadata": {
        "id": "9up20KQy7DSJ"
      }
    },
    {
      "cell_type": "code",
      "source": [
        "#Random Forest Function\n",
        "def RFClassifierKFold(X_train, y_train, X_test, y_test, numeric_attributes, cat_attributes, num_estimators, num_folds):\n",
        "  #Initialize the DecisionTreeClassifier\n",
        "  forest_raw_imbalanced = RandomForestClassifier(n_estimators = num_estimators)\n",
        "\n",
        "  #Time Measurement\n",
        "  start_time = process_time()\n",
        "\n",
        "  #Specify number of folds (k) for cross validation\n",
        "  kfold = KFold(n_splits = num_folds)\n",
        "\n",
        "  results = cross_val_score(forest_raw_imbalanced, X_train, y_train, cv = kfold)\n",
        "\n",
        "  #Lists for metrics\n",
        "  confusion_matrices = []\n",
        "  classification_reports = []\n",
        "\n",
        "  all_predictions = []\n",
        "  all_true_labels = []\n",
        "  mcc_scores = []\n",
        "  brier_scores = []\n",
        "\n",
        "  for train_index, val_index in kfold.split(X_train):\n",
        "    X_train_fold_values, X_val_fold_values = X_train.values[train_index], X_train.values[val_index]\n",
        "    y_train_fold_values, y_val_fold_values = y_train.values[train_index], y_train.values[val_index]\n",
        "\n",
        "    X_train_fold = pd.DataFrame(X_train_fold_values, columns=X_train.columns)\n",
        "    X_val_fold = pd.DataFrame(X_val_fold_values, columns=X_train.columns)\n",
        "    y_train_fold = pd.Series(y_train_fold_values, index=X_train_fold.index)\n",
        "    y_val_fold = pd.Series(y_val_fold_values, index=X_val_fold.index)\n",
        "\n",
        "    X_train_numeric = X_train_fold.loc[:, numeric_attributes]\n",
        "    X_val_numeric = X_val_fold.loc[:, numeric_attributes]\n",
        "\n",
        "    scaler = StandardScaler()\n",
        "    X_train_smote_S = scaler.fit_transform(X_train_numeric)\n",
        "    X_test_numeric_S = scaler.transform(X_val_numeric)\n",
        "\n",
        "    # Concatenate the standardized numeric attributes with the categorical attributes\n",
        "    X_train_combined = np.concatenate((X_train_smote_S, X_train_fold[cat_attributes]), axis=1)\n",
        "    X_test_combined = np.concatenate((X_test_numeric_S, X_val_fold[cat_attributes]), axis=1)\n",
        "\n",
        "    #Data preprocessing\n",
        "    smote = SMOTE()\n",
        "    X_train_fold_SMOTE, y_train_fold_SMOTE = smote.fit_resample(X_train_combined, y_train_fold)\n",
        "\n",
        "    #Fit the Classifier to the data\n",
        "    forest_raw_imbalanced.fit(X_train_combined, y_train_fold)\n",
        "\n",
        "    #Predict new Data\n",
        "    y_pred = forest_raw_imbalanced.predict(X_test_combined)\n",
        "\n",
        "    cr = classification_report(y_val_fold, y_pred)\n",
        "    classification_reports.append(cr)\n",
        "\n",
        "    cm = confusion_matrix(y_val_fold, y_pred)\n",
        "    confusion_matrices.append(cm)\n",
        "\n",
        "    all_predictions.extend(y_pred)\n",
        "    all_true_labels.extend(y_val_fold)\n",
        "\n",
        "    mcc_scores.append(matthews_corrcoef(y_val_fold, y_pred))\n",
        "    brier_scores.append(brier_score_loss(y_val_fold, y_pred))\n",
        "\n",
        "  #Time Measurement\n",
        "  end_time = process_time()\n",
        "\n",
        "  time = end_time - start_time\n",
        "  summary_report = classification_report(all_true_labels, all_predictions)\n",
        "\n",
        "  \"\"\"\n",
        "  for fold in range(num_folds):\n",
        "    print(\"Confusion matrix for fold\", fold+1, \":\\n\", confusion_matrices[fold])\n",
        "    print(\"Classification report for fold\", fold+1, \":\\n\", classification_reports[fold])\n",
        "    print()\"\"\"\n",
        "\n",
        "  print(summary_report)\n",
        "\n",
        "  print(\"Matthew's Correlation\", sum(mcc_scores) / len(mcc_scores))\n",
        "  print(\"Brier's Score\", sum(brier_scores) / len(brier_scores))\n",
        "  print(time)"
      ],
      "metadata": {
        "id": "xATuu8HT67Pb"
      },
      "execution_count": 8,
      "outputs": []
    },
    {
      "cell_type": "markdown",
      "source": [
        "Time-Series crossvalidation"
      ],
      "metadata": {
        "id": "FVReokGl7LR2"
      }
    },
    {
      "cell_type": "code",
      "source": [
        "#Random Forest Function\n",
        "def RFClassifierTS(X_train, y_train, X_test, y_test, numeric_attributes, cat_attributes, num_estimators, num_folds):\n",
        "  #Initialize the DecisionTreeClassifier\n",
        "  forest_raw_imbalanced = RandomForestClassifier(n_estimators = num_estimators)\n",
        "\n",
        "  #Time Measurement\n",
        "  start_time = process_time()\n",
        "\n",
        "  #Specify number of folds (k) for cross validation\n",
        "  tscv = TimeSeriesSplit(n_splits = num_folds)\n",
        "\n",
        "  results = cross_val_score(forest_raw_imbalanced, X_train, y_train, cv = tscv)\n",
        "\n",
        "  #Lists for metrics\n",
        "  confusion_matrices = []\n",
        "  classification_reports = []\n",
        "\n",
        "  all_predictions = []\n",
        "  all_true_labels = []\n",
        "  mcc_scores = []\n",
        "  brier_scores = []\n",
        "\n",
        "  for train_index, val_index in tscv.split(X_train):\n",
        "    X_train_fold_values, X_val_fold_values = X_train.values[train_index], X_train.values[val_index]\n",
        "    y_train_fold_values, y_val_fold_values = y_train.values[train_index], y_train.values[val_index]\n",
        "\n",
        "    X_train_fold = pd.DataFrame(X_train_fold_values, columns=X_train.columns)\n",
        "    X_val_fold = pd.DataFrame(X_val_fold_values, columns=X_train.columns)\n",
        "    y_train_fold = pd.Series(y_train_fold_values, index=X_train_fold.index)\n",
        "    y_val_fold = pd.Series(y_val_fold_values, index=X_val_fold.index)\n",
        "\n",
        "    X_train_numeric = X_train_fold.loc[:, numeric_attributes]\n",
        "    X_val_numeric = X_val_fold.loc[:, numeric_attributes]\n",
        "\n",
        "    scaler = StandardScaler()\n",
        "    X_train_smote_S = scaler.fit_transform(X_train_numeric)\n",
        "    X_test_numeric_S = scaler.transform(X_val_numeric)\n",
        "\n",
        "    # Concatenate the standardized numeric attributes with the categorical attributes\n",
        "    X_train_combined = np.concatenate((X_train_smote_S, X_train_fold[cat_attributes]), axis=1)\n",
        "    X_test_combined = np.concatenate((X_test_numeric_S, X_val_fold[cat_attributes]), axis=1)\n",
        "\n",
        "    #Data preprocessing\n",
        "    smote = SMOTE()\n",
        "    X_train_fold_SMOTE, y_train_fold_SMOTE = smote.fit_resample(X_train_combined, y_train_fold)\n",
        "\n",
        "    #Fit the Classifier to the data\n",
        "    forest_raw_imbalanced.fit(X_train_combined, y_train_fold)\n",
        "\n",
        "    #Predict new Data\n",
        "    y_pred = forest_raw_imbalanced.predict(X_test_combined)\n",
        "\n",
        "    cr = classification_report(y_val_fold, y_pred)\n",
        "    classification_reports.append(cr)\n",
        "\n",
        "    cm = confusion_matrix(y_val_fold, y_pred)\n",
        "    confusion_matrices.append(cm)\n",
        "\n",
        "    all_predictions.extend(y_pred)\n",
        "    all_true_labels.extend(y_val_fold)\n",
        "\n",
        "    mcc_scores.append(matthews_corrcoef(y_val_fold, y_pred))\n",
        "    brier_scores.append(brier_score_loss(y_val_fold, y_pred))\n",
        "\n",
        "  #Time Measurement\n",
        "  end_time = process_time()\n",
        "\n",
        "  time = end_time - start_time\n",
        "  summary_report = classification_report(all_true_labels, all_predictions)\n",
        "\n",
        "  \"\"\"\n",
        "  for fold in range(num_folds):\n",
        "    print(\"Confusion matrix for fold\", fold+1, \":\\n\", confusion_matrices[fold])\n",
        "    print(\"Classification report for fold\", fold+1, \":\\n\", classification_reports[fold])\n",
        "    print()\"\"\"\n",
        "\n",
        "  print(summary_report)\n",
        "  print(\"Matthew's Correlation\", sum(mcc_scores) / len(mcc_scores))\n",
        "  print(\"Brier's Score\", sum(brier_scores) / len(brier_scores))\n",
        "  print(time)"
      ],
      "metadata": {
        "id": "YIs0YOIO7EaT"
      },
      "execution_count": 9,
      "outputs": []
    },
    {
      "cell_type": "markdown",
      "source": [
        "Data Import and Processing"
      ],
      "metadata": {
        "id": "m8mdTR4R7U_l"
      }
    },
    {
      "cell_type": "code",
      "source": [
        "#https://archive.ics.uci.edu/dataset/468/online+shoppers+purchasing+intention+dataset\n",
        "\n",
        "import pandas as pd\n",
        "import numpy as np\n",
        "import matplotlib.pyplot as plt\n",
        "\n",
        "df = pd.read_csv(\"online_shoppers_intention.csv\")"
      ],
      "metadata": {
        "id": "zYmczq8D7OyF"
      },
      "execution_count": 10,
      "outputs": []
    },
    {
      "cell_type": "code",
      "source": [
        "#Identify categorical attributes\n",
        "categorical_features = [\"Month\", \"OperatingSystems\", \"Browser\", \"Region\", \"TrafficType\", \"VisitorType\", \"Weekend\"]\n",
        "df_cat = df[categorical_features]\n",
        "\n",
        "df_onehot = pd.get_dummies(df, columns = categorical_features, prefix = categorical_features)\n",
        "\n",
        "#Tranform categorical attributes\n",
        "label_encoder = LabelEncoder()\n",
        "df_onehot['Revenue'] = label_encoder.fit_transform(df['Revenue'])"
      ],
      "metadata": {
        "id": "L_YclWA97ZsH"
      },
      "execution_count": 11,
      "outputs": []
    },
    {
      "cell_type": "markdown",
      "source": [
        "Control SMOTE data"
      ],
      "metadata": {
        "id": "Tns8-3wi7c2O"
      }
    },
    {
      "cell_type": "code",
      "source": [
        "#Specify independent/ dependent values\n",
        "X = df_onehot.drop(columns = \"Revenue\")\n",
        "y = df_onehot[\"Revenue\"]\n",
        "\n",
        "#Split the Data\n",
        "X_train, X_test, y_train, y_test = train_test_split(X, y, test_size = 0.3)\n",
        "\n",
        "smote = SMOTE()\n",
        "X_train_smote, y_train_smote = smote.fit_resample(X_train, y_train)"
      ],
      "metadata": {
        "id": "2PjcViVv7ePj"
      },
      "execution_count": 12,
      "outputs": []
    },
    {
      "cell_type": "markdown",
      "source": [
        "Filtered Data\n",
        "Pearson Correlation Filters"
      ],
      "metadata": {
        "id": "JQeeSI8y7jqb"
      }
    },
    {
      "cell_type": "code",
      "source": [
        "#Correlation of Onehot encoded dataset\n",
        "\n",
        "corr = df_onehot.corr()\n",
        "\n",
        "revenue_correlation = corr[\"Revenue\"]\n",
        "sorted_pearson_correlation = revenue_correlation.abs().sort_values(ascending = False)\n",
        "\n",
        "sorted_pearson_correlation_df = pd.DataFrame(sorted_pearson_correlation)\n",
        "SPC_topquantile = sorted_pearson_correlation_df.quantile(0.75)\n",
        "filtered_df = sorted_pearson_correlation_df[sorted_pearson_correlation_df >= SPC_topquantile]\n",
        "filtered_df.dropna(inplace = True)\n",
        "#18 attributes were kept, were in the top quantile\n",
        "\n",
        "df_pearson = df_onehot[filtered_df.index.tolist()]\n",
        "\n",
        "#Tranform categorical attributes\n",
        "label_encoder = LabelEncoder()\n",
        "df_pearson['Revenue'] = label_encoder.fit_transform(df_pearson['Revenue'])\n",
        "\n",
        "#Specify independent/ dependent values\n",
        "X_p = df_pearson.drop(columns = \"Revenue\")\n",
        "y_p = df_pearson[\"Revenue\"]\n",
        "\n",
        "#Split the Data\n",
        "X_p_train, X_p_test, y_p_train, y_p_test = train_test_split(X_p, y_p, test_size = 0.3)\n",
        "\n",
        "smote = SMOTE()\n",
        "X_p_train_smote, y_p_train_smote = smote.fit_resample(X_p_train, y_p_train)"
      ],
      "metadata": {
        "colab": {
          "base_uri": "https://localhost:8080/"
        },
        "id": "_SdIYSnN7hFd",
        "outputId": "9797360c-13fe-43c2-e8e7-eee97578dc76"
      },
      "execution_count": 13,
      "outputs": [
        {
          "output_type": "stream",
          "name": "stderr",
          "text": [
            "<ipython-input-13-a15d2170359d>:18: SettingWithCopyWarning: \n",
            "A value is trying to be set on a copy of a slice from a DataFrame.\n",
            "Try using .loc[row_indexer,col_indexer] = value instead\n",
            "\n",
            "See the caveats in the documentation: https://pandas.pydata.org/pandas-docs/stable/user_guide/indexing.html#returning-a-view-versus-a-copy\n",
            "  df_pearson['Revenue'] = label_encoder.fit_transform(df_pearson['Revenue'])\n"
          ]
        }
      ]
    },
    {
      "cell_type": "markdown",
      "source": [
        "Random Forest Features"
      ],
      "metadata": {
        "id": "d7Lp1bby7vPC"
      }
    },
    {
      "cell_type": "code",
      "source": [
        "#Filters of RF Classifier\n",
        "\n",
        "rf_classifier = RandomForestClassifier()\n",
        "\n",
        "#Fit random forest classifier\n",
        "rf_classifier.fit(X_train_smote, y_train_smote)\n",
        "\n",
        "feature_importances = rf_classifier.feature_importances_\n",
        "\n",
        "rf_df = pd.DataFrame({\"Feature\": X_train_smote.columns, \"Importance\": feature_importances})\n",
        "\n",
        "sorted_features = np.argsort(feature_importances)[::-1]\n",
        "\n",
        "#Sorting features\n",
        "rf_df_sorted = rf_df.sort_values(\"Importance\", ascending = False)\n",
        "rf_df_sorted = rf_df_sorted.reset_index(drop = True)\n",
        "rf_df_sorted\n",
        "\n",
        "rf_df_sorted.describe()\n",
        "RF_topquantile = rf_df_sorted['Importance'].quantile(0.75)\n",
        "RFfiltered_df = rf_df_sorted.loc[rf_df_sorted['Importance'] >= RF_topquantile]\n",
        "#19 features were kept after keeping the top quartile of results\n",
        "filtered_attributes_rf = RFfiltered_df.index.tolist()\n",
        "df_rf = df_onehot[RFfiltered_df[\"Feature\"]]\n",
        "\n",
        "df_rf[\"Revenue\"] = df_onehot[\"Revenue\"]\n",
        "\n",
        "#Specify independent/ dependent values\n",
        "X_rf = df_rf.drop(columns = \"Revenue\")\n",
        "y_rf = df_rf[\"Revenue\"]\n",
        "\n",
        "#Split the Data\n",
        "X_rf_train, X_rf_test, y_rf_train, y_rf_test = train_test_split(X_rf, y_rf, test_size = 0.3)\n",
        "\n",
        "smote = SMOTE()\n",
        "X_rf_train_smote, y_rf_train_smote = smote.fit_resample(X_rf_train, y_rf_train)\n"
      ],
      "metadata": {
        "colab": {
          "base_uri": "https://localhost:8080/"
        },
        "id": "hDGVicof7uD5",
        "outputId": "c23ec789-5735-47f4-d082-1982ee6cdc8f"
      },
      "execution_count": 14,
      "outputs": [
        {
          "output_type": "stream",
          "name": "stderr",
          "text": [
            "<ipython-input-14-72b89fc352e0>:26: SettingWithCopyWarning: \n",
            "A value is trying to be set on a copy of a slice from a DataFrame.\n",
            "Try using .loc[row_indexer,col_indexer] = value instead\n",
            "\n",
            "See the caveats in the documentation: https://pandas.pydata.org/pandas-docs/stable/user_guide/indexing.html#returning-a-view-versus-a-copy\n",
            "  df_rf[\"Revenue\"] = df_onehot[\"Revenue\"]\n"
          ]
        }
      ]
    },
    {
      "cell_type": "code",
      "source": [
        "#Define columns that need data normalization/ standardization\n",
        "numeric_features = ['Administrative', 'Administrative_Duration', 'Informational',\n",
        "       'Informational_Duration', 'ProductRelated', 'ProductRelated_Duration',\n",
        "       'BounceRates', 'ExitRates', 'PageValues', 'SpecialDay']\n",
        "\n",
        "p_numeric_features = ['Administrative', 'Administrative_Duration', 'Informational',\n",
        "       'Informational_Duration', 'ProductRelated', 'ProductRelated_Duration','BounceRates',\n",
        "       'ExitRates', 'PageValues', 'SpecialDay']\n",
        "\n",
        "rf_numeric_features = ['Administrative', 'Administrative_Duration',\n",
        "       'Informational_Duration', 'ProductRelated', 'ProductRelated_Duration',\n",
        "       'BounceRates', 'ExitRates', 'PageValues']\n",
        "\n",
        "cat_features = [col for col in X_train if col not in numeric_features]\n",
        "p_cat_features = [col for col in X_p_train if col not in numeric_features]\n",
        "rf_cat_features = [col for col in X_rf_train if col not in numeric_features]"
      ],
      "metadata": {
        "id": "bdw9ZbQ476BS"
      },
      "execution_count": 15,
      "outputs": []
    },
    {
      "cell_type": "markdown",
      "source": [
        "Changing num_estimators\n",
        "Modified Functions to include oversampling/scaling within the function\n",
        "Pearson Correlation Filtered Data"
      ],
      "metadata": {
        "id": "sLtduNOZ7-n9"
      }
    },
    {
      "cell_type": "code",
      "source": [
        "%memit RFClassifierMOD(X_p_train, y_p_train, X_p_test, y_p_test, p_numeric_features, p_cat_features, 100)"
      ],
      "metadata": {
        "colab": {
          "base_uri": "https://localhost:8080/"
        },
        "id": "uEiyC1uU78g6",
        "outputId": "314dc9a8-ab12-462c-9393-fa16e7fa8e67"
      },
      "execution_count": 16,
      "outputs": [
        {
          "output_type": "stream",
          "name": "stdout",
          "text": [
            "              precision    recall  f1-score   support\n",
            "\n",
            "           0       0.95      0.92      0.93      3132\n",
            "           1       0.62      0.73      0.67       567\n",
            "\n",
            "    accuracy                           0.89      3699\n",
            "   macro avg       0.78      0.82      0.80      3699\n",
            "weighted avg       0.90      0.89      0.89      3699\n",
            "\n",
            "[[2879  253]\n",
            " [ 154  413]]\n",
            "Matthew's Correlation 0.6072208296539415\n",
            "Brier's Score 0.11002973776696405\n",
            "3.852019278\n",
            "peak memory: 302.96 MiB, increment: 20.69 MiB\n"
          ]
        }
      ]
    },
    {
      "cell_type": "markdown",
      "source": [
        "K-Fold Crossvalidation\n",
        "Random forest features"
      ],
      "metadata": {
        "id": "rmsNwS4_8Meq"
      }
    },
    {
      "cell_type": "code",
      "source": [
        "%memit RFClassifierKFold(X_rf_train, y_rf_train, X_rf_test, y_rf_test, rf_numeric_features, rf_cat_features, 100, 5)"
      ],
      "metadata": {
        "colab": {
          "base_uri": "https://localhost:8080/"
        },
        "id": "mJz3A4nI8NjB",
        "outputId": "ce95169d-a3d7-49f4-d778-6d5cf3d9028c"
      },
      "execution_count": 17,
      "outputs": [
        {
          "output_type": "stream",
          "name": "stdout",
          "text": [
            "              precision    recall  f1-score   support\n",
            "\n",
            "           0       0.93      0.97      0.95      7292\n",
            "           1       0.76      0.57      0.66      1339\n",
            "\n",
            "    accuracy                           0.91      8631\n",
            "   macro avg       0.84      0.77      0.80      8631\n",
            "weighted avg       0.90      0.91      0.90      8631\n",
            "\n",
            "Matthew's Correlation 0.6110630145439112\n",
            "Brier's Score 0.09361601340847195\n",
            "14.735072689\n",
            "peak memory: 309.89 MiB, increment: 6.93 MiB\n"
          ]
        }
      ]
    },
    {
      "cell_type": "markdown",
      "source": [
        "Time-Series Crossvalidation\n",
        "Random Forest features"
      ],
      "metadata": {
        "id": "gOOSoMVe8XAV"
      }
    },
    {
      "cell_type": "code",
      "source": [
        "%memit RFClassifierTS(X_rf_train, y_rf_train, X_rf_test, y_rf_test, rf_numeric_features, rf_cat_features, 100, 5)"
      ],
      "metadata": {
        "colab": {
          "base_uri": "https://localhost:8080/"
        },
        "id": "ohWFcpU48YDi",
        "outputId": "af733299-4f57-4504-fab3-6e2fcb76983f"
      },
      "execution_count": 18,
      "outputs": [
        {
          "output_type": "stream",
          "name": "stdout",
          "text": [
            "              precision    recall  f1-score   support\n",
            "\n",
            "           0       0.92      0.97      0.94      6051\n",
            "           1       0.75      0.55      0.64      1139\n",
            "\n",
            "    accuracy                           0.90      7190\n",
            "   macro avg       0.84      0.76      0.79      7190\n",
            "weighted avg       0.89      0.90      0.89      7190\n",
            "\n",
            "Matthew's Correlation 0.5921329429234082\n",
            "Brier's Score 0.09944367176634214\n",
            "8.481085262999997\n",
            "peak memory: 309.53 MiB, increment: 0.46 MiB\n"
          ]
        }
      ]
    },
    {
      "cell_type": "markdown",
      "source": [
        "Variance testing"
      ],
      "metadata": {
        "id": "wRKac17H8fyG"
      }
    },
    {
      "cell_type": "code",
      "source": [
        "for i in range(5):\n",
        "    RFClassifierMOD(X_p_train, y_p_train, X_p_test, y_p_test, p_numeric_features, p_cat_features, 100)"
      ],
      "metadata": {
        "colab": {
          "base_uri": "https://localhost:8080/"
        },
        "id": "PCk9uWTb8g3H",
        "outputId": "8b9657b2-0b8c-4f1a-c245-0e40cbda399d"
      },
      "execution_count": 19,
      "outputs": [
        {
          "output_type": "stream",
          "name": "stdout",
          "text": [
            "              precision    recall  f1-score   support\n",
            "\n",
            "           0       0.95      0.92      0.94      3132\n",
            "           1       0.63      0.74      0.68       567\n",
            "\n",
            "    accuracy                           0.89      3699\n",
            "   macro avg       0.79      0.83      0.81      3699\n",
            "weighted avg       0.90      0.89      0.90      3699\n",
            "\n",
            "[[2887  245]\n",
            " [ 149  418]]\n",
            "Matthew's Correlation 0.6189743865245402\n",
            "Brier's Score 0.10651527439848607\n",
            "2.5742930179999988\n",
            "              precision    recall  f1-score   support\n",
            "\n",
            "           0       0.95      0.92      0.93      3132\n",
            "           1       0.62      0.73      0.67       567\n",
            "\n",
            "    accuracy                           0.89      3699\n",
            "   macro avg       0.79      0.82      0.80      3699\n",
            "weighted avg       0.90      0.89      0.89      3699\n",
            "\n",
            "[[2883  249]\n",
            " [ 155  412]]\n",
            "Matthew's Correlation 0.6085537943187008\n",
            "Brier's Score 0.10921870775885374\n",
            "2.491064803999997\n",
            "              precision    recall  f1-score   support\n",
            "\n",
            "           0       0.95      0.92      0.94      3132\n",
            "           1       0.63      0.74      0.68       567\n",
            "\n",
            "    accuracy                           0.89      3699\n",
            "   macro avg       0.79      0.83      0.81      3699\n",
            "weighted avg       0.90      0.89      0.90      3699\n",
            "\n",
            "[[2887  245]\n",
            " [ 148  419]]\n",
            "Matthew's Correlation 0.6202656053091674\n",
            "Brier's Score 0.10624493106244931\n",
            "3.0740510110000017\n",
            "              precision    recall  f1-score   support\n",
            "\n",
            "           0       0.95      0.92      0.93      3132\n",
            "           1       0.62      0.74      0.68       567\n",
            "\n",
            "    accuracy                           0.89      3699\n",
            "   macro avg       0.79      0.83      0.81      3699\n",
            "weighted avg       0.90      0.89      0.90      3699\n",
            "\n",
            "[[2877  255]\n",
            " [ 147  420]]\n",
            "Matthew's Correlation 0.6149756623444573\n",
            "Brier's Score 0.10867802108678021\n",
            "2.8457778049999973\n",
            "              precision    recall  f1-score   support\n",
            "\n",
            "           0       0.95      0.92      0.93      3132\n",
            "           1       0.61      0.73      0.67       567\n",
            "\n",
            "    accuracy                           0.89      3699\n",
            "   macro avg       0.78      0.83      0.80      3699\n",
            "weighted avg       0.90      0.89      0.89      3699\n",
            "\n",
            "[[2870  262]\n",
            " [ 151  416]]\n",
            "Matthew's Correlation 0.6052682614698005\n",
            "Brier's Score 0.11165179778318464\n",
            "2.50484694\n"
          ]
        }
      ]
    }
  ]
}