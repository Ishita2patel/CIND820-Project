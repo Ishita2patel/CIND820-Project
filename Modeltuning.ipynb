{
  "nbformat": 4,
  "nbformat_minor": 0,
  "metadata": {
    "colab": {
      "provenance": [],
      "authorship_tag": "ABX9TyMPOpwvnofmwtOysePPnTqm",
      "include_colab_link": true
    },
    "kernelspec": {
      "name": "python3",
      "display_name": "Python 3"
    },
    "language_info": {
      "name": "python"
    }
  },
  "cells": [
    {
      "cell_type": "markdown",
      "metadata": {
        "id": "view-in-github",
        "colab_type": "text"
      },
      "source": [
        "<a href=\"https://colab.research.google.com/github/Ishita2patel/CIND820-Project/blob/main/Modeltuning.ipynb\" target=\"_parent\"><img src=\"https://colab.research.google.com/assets/colab-badge.svg\" alt=\"Open In Colab\"/></a>"
      ]
    },
    {
      "cell_type": "code",
      "execution_count": 1,
      "metadata": {
        "colab": {
          "base_uri": "https://localhost:8080/"
        },
        "id": "E0xUbqdxHETK",
        "outputId": "bd1f5287-906c-40b4-9dfa-4ef64b166f6c"
      },
      "outputs": [
        {
          "output_type": "stream",
          "name": "stdout",
          "text": [
            "Collecting memory_profiler\n",
            "  Downloading memory_profiler-0.61.0-py3-none-any.whl.metadata (20 kB)\n",
            "Requirement already satisfied: psutil in /usr/local/lib/python3.10/dist-packages (from memory_profiler) (5.9.5)\n",
            "Downloading memory_profiler-0.61.0-py3-none-any.whl (31 kB)\n",
            "Installing collected packages: memory_profiler\n",
            "Successfully installed memory_profiler-0.61.0\n"
          ]
        }
      ],
      "source": [
        "pip install memory_profiler"
      ]
    },
    {
      "cell_type": "code",
      "source": [
        "#Data processing\n",
        "from sklearn.preprocessing import OneHotEncoder\n",
        "from sklearn.preprocessing import LabelEncoder\n",
        "\n",
        "from imblearn.over_sampling import SMOTE\n",
        "\n",
        "from sklearn.model_selection import train_test_split\n",
        "from sklearn.compose import ColumnTransformer\n",
        "\n",
        "#Model performance metrics\n",
        "from time import process_time\n",
        "from memory_profiler import profile\n",
        "from sklearn.metrics import confusion_matrix\n",
        "from sklearn.metrics import classification_report\n",
        "\n",
        "#Feature selection and models\n",
        "from sklearn.tree import DecisionTreeClassifier\n",
        "from sklearn.ensemble import RandomForestClassifier\n",
        "from sklearn.linear_model import LogisticRegression\n",
        "from sklearn.feature_selection import RFE\n",
        "\n",
        "#Data scaling\n",
        "from sklearn.preprocessing import MinMaxScaler\n",
        "from sklearn.preprocessing import StandardScaler\n",
        "%load_ext memory_profiler"
      ],
      "metadata": {
        "id": "6zBJNh8VHpET"
      },
      "execution_count": 2,
      "outputs": []
    },
    {
      "cell_type": "code",
      "source": [
        "#Random Forest Model\n",
        "def RFClassifier(X_train, y_train, X_test, y_test):\n",
        "  #Initialize the Random Forest Classifier\n",
        "  forest_raw_imbalanced = RandomForestClassifier(n_estimators = 100)\n",
        "\n",
        "  #Time Measurement\n",
        "  start_time = process_time()\n",
        "\n",
        "  #Fit the classifier to the data\n",
        "  forest_raw_imbalanced.fit(X_train, y_train)\n",
        "\n",
        "  #Predict new Data\n",
        "  y_pred = forest_raw_imbalanced.predict(X_test)\n",
        "\n",
        "  #Time Measurement\n",
        "  end_time = process_time()\n",
        "\n",
        "  #Results\n",
        "  cr = classification_report(y_test, y_pred)\n",
        "  cm = confusion_matrix(y_test, y_pred)\n",
        "  time = end_time - start_time\n",
        "  print(cr)\n",
        "  print(cm)\n",
        "  print(time)"
      ],
      "metadata": {
        "id": "S1v_JwpVHqOp"
      },
      "execution_count": 3,
      "outputs": []
    },
    {
      "cell_type": "markdown",
      "source": [
        "Modified Models to include SMOTE and standardization"
      ],
      "metadata": {
        "id": "Ho_441DOHxcX"
      }
    },
    {
      "cell_type": "code",
      "source": [
        "#Random Forest function\n",
        "def RFClassifierMOD(X_train, y_train, X_test, y_test, numeric_attributes, cat_attributes, num_estimators):\n",
        "  #Initialize the DecisionTreeClassifier\n",
        "  forest_raw_imbalanced = RandomForestClassifier(n_estimators = num_estimators)\n",
        "\n",
        "  #Time Measurement\n",
        "  start_time = process_time()\n",
        "\n",
        "  #Data preprocessing\n",
        "  smote = SMOTE()\n",
        "  X_train_smote, y_train_smote = smote.fit_resample(X_train, y_train)\n",
        "\n",
        "  # Subset the numeric attributes\n",
        "  X_train_smote_numeric = X_train_smote[numeric_attributes]\n",
        "  X_test_numeric = X_test[numeric_attributes]\n",
        "\n",
        "  scaler = StandardScaler()\n",
        "  X_train_smote_S = scaler.fit_transform(X_train_smote_numeric)\n",
        "  X_test_numeric_S = scaler.transform(X_test_numeric)\n",
        "\n",
        "  # Concatenate the standardized numeric attributes with the categorical attributes\n",
        "  X_train_combined = np.concatenate((X_train_smote_S, X_train_smote[cat_attributes]), axis=1)\n",
        "  X_test_combined = np.concatenate((X_test_numeric_S, X_test[cat_attributes]), axis=1)\n",
        "\n",
        "  #Fit the Classifier to the data\n",
        "  forest_raw_imbalanced.fit(X_train_combined, y_train_smote)\n",
        "\n",
        "  #Predict new Data\n",
        "  y_pred = forest_raw_imbalanced.predict(X_test_combined)\n",
        "\n",
        "  #Time Measurement\n",
        "  end_time = process_time()\n",
        "\n",
        "  #Results\n",
        "  cr = classification_report(y_test, y_pred)\n",
        "  cm = confusion_matrix(y_test, y_pred)\n",
        "  time = end_time - start_time\n",
        "  print(cr)\n",
        "  print(cm)\n",
        "  print(time)"
      ],
      "metadata": {
        "id": "33jK1HHZHu5N"
      },
      "execution_count": 4,
      "outputs": []
    },
    {
      "cell_type": "markdown",
      "source": [
        "Crossvalidation Models"
      ],
      "metadata": {
        "id": "xbm-zjHZIAOD"
      }
    },
    {
      "cell_type": "code",
      "source": [
        "from sklearn.model_selection import cross_val_score\n",
        "from sklearn.model_selection import KFold\n",
        "from sklearn.model_selection import TimeSeriesSplit\n",
        "#K-Fold Validation Models\n",
        "\n",
        "#Random Forest Function\n",
        "def RFClassifierKFold(X_train, y_train, X_test, y_test, numeric_attributes, cat_attributes, num_estimators, num_folds):\n",
        "  #Initialize the DecisionTreeClassifier\n",
        "  forest_raw_imbalanced = RandomForestClassifier(n_estimators = num_estimators)\n",
        "\n",
        "  #Time Measurement\n",
        "  start_time = process_time()\n",
        "\n",
        "  #Specify number of folds (k) for cross validation\n",
        "  kfold = KFold(n_splits = num_folds)\n",
        "\n",
        "  results = cross_val_score(forest_raw_imbalanced, X_train, y_train, cv = kfold)\n",
        "\n",
        "  #Lists for metrics\n",
        "  confusion_matrices = []\n",
        "  classification_reports = []\n",
        "\n",
        "  all_predictions = []\n",
        "  all_true_labels = []\n",
        "\n",
        "  for train_index, val_index in kfold.split(X_train):\n",
        "    X_train_fold_values, X_val_fold_values = X_train.values[train_index], X_train.values[val_index]\n",
        "    y_train_fold_values, y_val_fold_values = y_train.values[train_index], y_train.values[val_index]\n",
        "\n",
        "    X_train_fold = pd.DataFrame(X_train_fold_values, columns=X_train.columns)\n",
        "    X_val_fold = pd.DataFrame(X_val_fold_values, columns=X_train.columns)\n",
        "    y_train_fold = pd.Series(y_train_fold_values, index=X_train_fold.index)\n",
        "    y_val_fold = pd.Series(y_val_fold_values, index=X_val_fold.index)\n",
        "\n",
        "    X_train_numeric = X_train_fold.loc[:, numeric_attributes]\n",
        "    X_val_numeric = X_val_fold.loc[:, numeric_attributes]\n",
        "\n",
        "    scaler = StandardScaler()\n",
        "    X_train_smote_S = scaler.fit_transform(X_train_numeric)\n",
        "    X_test_numeric_S = scaler.transform(X_val_numeric)\n",
        "\n",
        "    # Concatenate the standardized numeric attributes with the categorical attributes\n",
        "    X_train_combined = np.concatenate((X_train_smote_S, X_train_fold[cat_attributes]), axis=1)\n",
        "    X_test_combined = np.concatenate((X_test_numeric_S, X_val_fold[cat_attributes]), axis=1)\n",
        "\n",
        "    #Data preprocessing\n",
        "    smote = SMOTE()\n",
        "    X_train_fold_SMOTE, y_train_fold_SMOTE = smote.fit_resample(X_train_combined, y_train_fold)\n",
        "\n",
        "    #Fit the Classifier to the data\n",
        "    forest_raw_imbalanced.fit(X_train_combined, y_train_fold)\n",
        "\n",
        "    #Predict new Data\n",
        "    y_pred = forest_raw_imbalanced.predict(X_test_combined)\n",
        "\n",
        "    cr = classification_report(y_val_fold, y_pred)\n",
        "    classification_reports.append(cr)\n",
        "\n",
        "    cm = confusion_matrix(y_val_fold, y_pred)\n",
        "    confusion_matrices.append(cm)\n",
        "\n",
        "    all_predictions.extend(y_pred)\n",
        "    all_true_labels.extend(y_val_fold)\n",
        "\n",
        "  #Time Measurement\n",
        "  end_time = process_time()\n",
        "\n",
        "  time = end_time - start_time\n",
        "  summary_report = classification_report(all_true_labels, all_predictions)\n",
        "\n",
        "  \"\"\"\n",
        "  for fold in range(num_folds):\n",
        "    print(\"Confusion matrix for fold\", fold+1, \":\\n\", confusion_matrices[fold])\n",
        "    print(\"Classification report for fold\", fold+1, \":\\n\", classification_reports[fold])\n",
        "    print()\"\"\"\n",
        "\n",
        "  print(summary_report)\n",
        "  print(time)"
      ],
      "metadata": {
        "id": "hENys9QOH0pk"
      },
      "execution_count": 5,
      "outputs": []
    },
    {
      "cell_type": "markdown",
      "source": [
        "Time-Series crossvalidation"
      ],
      "metadata": {
        "id": "xhlf1m2uID3J"
      }
    },
    {
      "cell_type": "code",
      "source": [
        "#Random Forest Function\n",
        "def RFClassifierTS(X_train, y_train, X_test, y_test, numeric_attributes, cat_attributes, num_estimators, num_folds):\n",
        "  #Initialize the DecisionTreeClassifier\n",
        "  forest_raw_imbalanced = RandomForestClassifier(n_estimators = num_estimators)\n",
        "\n",
        "  #Time Measurement\n",
        "  start_time = process_time()\n",
        "\n",
        "  #Specify number of folds (k) for cross validation\n",
        "  tscv = TimeSeriesSplit(n_splits = num_folds)\n",
        "\n",
        "  results = cross_val_score(forest_raw_imbalanced, X_train, y_train, cv = tscv)\n",
        "\n",
        "  #Lists for metrics\n",
        "  confusion_matrices = []\n",
        "  classification_reports = []\n",
        "\n",
        "  all_predictions = []\n",
        "  all_true_labels = []\n",
        "\n",
        "  for train_index, val_index in tscv.split(X_train):\n",
        "    X_train_fold_values, X_val_fold_values = X_train.values[train_index], X_train.values[val_index]\n",
        "    y_train_fold_values, y_val_fold_values = y_train.values[train_index], y_train.values[val_index]\n",
        "\n",
        "    X_train_fold = pd.DataFrame(X_train_fold_values, columns=X_train.columns)\n",
        "    X_val_fold = pd.DataFrame(X_val_fold_values, columns=X_train.columns)\n",
        "    y_train_fold = pd.Series(y_train_fold_values, index=X_train_fold.index)\n",
        "    y_val_fold = pd.Series(y_val_fold_values, index=X_val_fold.index)\n",
        "\n",
        "    X_train_numeric = X_train_fold.loc[:, numeric_attributes]\n",
        "    X_val_numeric = X_val_fold.loc[:, numeric_attributes]\n",
        "\n",
        "    scaler = StandardScaler()\n",
        "    X_train_smote_S = scaler.fit_transform(X_train_numeric)\n",
        "    X_test_numeric_S = scaler.transform(X_val_numeric)\n",
        "\n",
        "    # Concatenate the standardized numeric attributes with the categorical attributes\n",
        "    X_train_combined = np.concatenate((X_train_smote_S, X_train_fold[cat_attributes]), axis=1)\n",
        "    X_test_combined = np.concatenate((X_test_numeric_S, X_val_fold[cat_attributes]), axis=1)\n",
        "\n",
        "    #Data preprocessing\n",
        "    smote = SMOTE()\n",
        "    X_train_fold_SMOTE, y_train_fold_SMOTE = smote.fit_resample(X_train_combined, y_train_fold)\n",
        "\n",
        "    #Fit the Classifier to the data\n",
        "    forest_raw_imbalanced.fit(X_train_combined, y_train_fold)\n",
        "\n",
        "    #Predict new Data\n",
        "    y_pred = forest_raw_imbalanced.predict(X_test_combined)\n",
        "\n",
        "    cr = classification_report(y_val_fold, y_pred)\n",
        "    classification_reports.append(cr)\n",
        "\n",
        "    cm = confusion_matrix(y_val_fold, y_pred)\n",
        "    confusion_matrices.append(cm)\n",
        "\n",
        "    all_predictions.extend(y_pred)\n",
        "    all_true_labels.extend(y_val_fold)\n",
        "\n",
        "  #Time Measurement\n",
        "  end_time = process_time()\n",
        "\n",
        "  time = end_time - start_time\n",
        "  summary_report = classification_report(all_true_labels, all_predictions)\n",
        "\n",
        "  \"\"\"\n",
        "  for fold in range(num_folds):\n",
        "    print(\"Confusion matrix for fold\", fold+1, \":\\n\", confusion_matrices[fold])\n",
        "    print(\"Classification report for fold\", fold+1, \":\\n\", classification_reports[fold])\n",
        "    print()\"\"\"\n",
        "\n",
        "  print(summary_report)\n",
        "  print(time)"
      ],
      "metadata": {
        "id": "ANFZ18w0IBha"
      },
      "execution_count": 6,
      "outputs": []
    },
    {
      "cell_type": "markdown",
      "source": [
        "Data Import and Processing"
      ],
      "metadata": {
        "id": "9Vth2lEIIJ6I"
      }
    },
    {
      "cell_type": "code",
      "source": [
        "#https://archive.ics.uci.edu/dataset/468/online+shoppers+purchasing+intention+dataset\n",
        "\n",
        "import pandas as pd\n",
        "import numpy as np\n",
        "import matplotlib.pyplot as plt\n",
        "\n",
        "df = pd.read_csv(\"online_shoppers_intention.csv\")\n",
        "#Identify categorical attributes\n",
        "categorical_features = [\"Month\", \"OperatingSystems\", \"Browser\", \"Region\", \"TrafficType\", \"VisitorType\", \"Weekend\"]\n",
        "df_cat = df[categorical_features]\n",
        "\n",
        "df_onehot = pd.get_dummies(df, columns = categorical_features, prefix = categorical_features)\n",
        "\n",
        "#Tranform categorical attributes\n",
        "label_encoder = LabelEncoder()\n",
        "df_onehot['Revenue'] = label_encoder.fit_transform(df['Revenue'])"
      ],
      "metadata": {
        "id": "jsK4peoNIJqk"
      },
      "execution_count": 7,
      "outputs": []
    },
    {
      "cell_type": "markdown",
      "source": [
        "Control SMOTE data"
      ],
      "metadata": {
        "id": "Km7e6uBCIPYZ"
      }
    },
    {
      "cell_type": "code",
      "source": [
        "#Specify independent/ dependent values\n",
        "X = df_onehot.drop(columns = \"Revenue\")\n",
        "y = df_onehot[\"Revenue\"]\n",
        "\n",
        "#Split the Data\n",
        "X_train, X_test, y_train, y_test = train_test_split(X, y, test_size = 0.3)\n",
        "\n",
        "smote = SMOTE()\n",
        "X_train_smote, y_train_smote = smote.fit_resample(X_train, y_train)"
      ],
      "metadata": {
        "id": "x6KI9gH2IPzN"
      },
      "execution_count": 8,
      "outputs": []
    },
    {
      "cell_type": "markdown",
      "source": [
        "Filtered Data\n",
        "Pearson Correlation Filters"
      ],
      "metadata": {
        "id": "-1EqAlInIT5c"
      }
    },
    {
      "cell_type": "code",
      "source": [
        "#Correlation of Onehot encoded dataset\n",
        "\n",
        "corr = df_onehot.corr()\n",
        "\n",
        "revenue_correlation = corr[\"Revenue\"]\n",
        "sorted_pearson_correlation = revenue_correlation.abs().sort_values(ascending = False)\n",
        "\n",
        "sorted_pearson_correlation_df = pd.DataFrame(sorted_pearson_correlation)\n",
        "SPC_topquantile = sorted_pearson_correlation_df.quantile(0.75)\n",
        "filtered_df = sorted_pearson_correlation_df[sorted_pearson_correlation_df >= SPC_topquantile]\n",
        "filtered_df.dropna(inplace = True)\n",
        "#18 attributes were kept, were in the top quantile\n",
        "\n",
        "df_pearson = df_onehot[filtered_df.index.tolist()]\n",
        "\n",
        "#Tranform categorical attributes\n",
        "label_encoder = LabelEncoder()\n",
        "df_pearson['Revenue'] = label_encoder.fit_transform(df_pearson['Revenue'])\n",
        "\n",
        "#Specify independent/ dependent values\n",
        "X_p = df_pearson.drop(columns = \"Revenue\")\n",
        "y_p = df_pearson[\"Revenue\"]\n",
        "\n",
        "#Split the Data\n",
        "X_p_train, X_p_test, y_p_train, y_p_test = train_test_split(X_p, y_p, test_size = 0.3)\n",
        "\n",
        "smote = SMOTE()\n",
        "X_p_train_smote, y_p_train_smote = smote.fit_resample(X_p_train, y_p_train)"
      ],
      "metadata": {
        "colab": {
          "base_uri": "https://localhost:8080/"
        },
        "id": "jw9kACHwIUVL",
        "outputId": "1c70b04d-4514-4588-9485-2f9f77485354"
      },
      "execution_count": 9,
      "outputs": [
        {
          "output_type": "stream",
          "name": "stderr",
          "text": [
            "<ipython-input-9-a15d2170359d>:18: SettingWithCopyWarning: \n",
            "A value is trying to be set on a copy of a slice from a DataFrame.\n",
            "Try using .loc[row_indexer,col_indexer] = value instead\n",
            "\n",
            "See the caveats in the documentation: https://pandas.pydata.org/pandas-docs/stable/user_guide/indexing.html#returning-a-view-versus-a-copy\n",
            "  df_pearson['Revenue'] = label_encoder.fit_transform(df_pearson['Revenue'])\n"
          ]
        }
      ]
    },
    {
      "cell_type": "markdown",
      "source": [
        "Random Forest Features"
      ],
      "metadata": {
        "id": "qfY5jdRSIcdG"
      }
    },
    {
      "cell_type": "code",
      "source": [
        "#Filters of RF Classifier\n",
        "\n",
        "rf_classifier = RandomForestClassifier()\n",
        "\n",
        "#Fit random forest classifier\n",
        "rf_classifier.fit(X_train_smote, y_train_smote)\n",
        "\n",
        "feature_importances = rf_classifier.feature_importances_\n",
        "\n",
        "rf_df = pd.DataFrame({\"Feature\": X_train_smote.columns, \"Importance\": feature_importances})\n",
        "\n",
        "sorted_features = np.argsort(feature_importances)[::-1]\n",
        "\n",
        "#Sorting features\n",
        "rf_df_sorted = rf_df.sort_values(\"Importance\", ascending = False)\n",
        "rf_df_sorted = rf_df_sorted.reset_index(drop = True)\n",
        "rf_df_sorted\n",
        "\n",
        "rf_df_sorted.describe()\n",
        "RF_topquantile = rf_df_sorted['Importance'].quantile(0.75)\n",
        "RFfiltered_df = rf_df_sorted.loc[rf_df_sorted['Importance'] >= RF_topquantile]\n",
        "#19 features were kept after keeping the top quartile of results\n",
        "filtered_attributes_rf = RFfiltered_df.index.tolist()\n",
        "df_rf = df_onehot[RFfiltered_df[\"Feature\"]]\n",
        "\n",
        "df_rf[\"Revenue\"] = df_onehot[\"Revenue\"]\n",
        "\n",
        "#Specify independent/ dependent values\n",
        "X_rf = df_rf.drop(columns = \"Revenue\")\n",
        "y_rf = df_rf[\"Revenue\"]\n",
        "\n",
        "#Split the Data\n",
        "X_rf_train, X_rf_test, y_rf_train, y_rf_test = train_test_split(X_rf, y_rf, test_size = 0.3)\n",
        "\n",
        "smote = SMOTE()\n",
        "X_rf_train_smote, y_rf_train_smote = smote.fit_resample(X_rf_train, y_rf_train)"
      ],
      "metadata": {
        "colab": {
          "base_uri": "https://localhost:8080/"
        },
        "id": "qcQosCc-IZ21",
        "outputId": "d3d239ed-afa1-45e9-df87-c1f01a9bf389"
      },
      "execution_count": 10,
      "outputs": [
        {
          "output_type": "stream",
          "name": "stderr",
          "text": [
            "<ipython-input-10-72b89fc352e0>:26: SettingWithCopyWarning: \n",
            "A value is trying to be set on a copy of a slice from a DataFrame.\n",
            "Try using .loc[row_indexer,col_indexer] = value instead\n",
            "\n",
            "See the caveats in the documentation: https://pandas.pydata.org/pandas-docs/stable/user_guide/indexing.html#returning-a-view-versus-a-copy\n",
            "  df_rf[\"Revenue\"] = df_onehot[\"Revenue\"]\n"
          ]
        }
      ]
    },
    {
      "cell_type": "code",
      "source": [
        "#Define columns that need data normalization/ standardization\n",
        "numeric_features = ['Administrative', 'Administrative_Duration', 'Informational',\n",
        "       'Informational_Duration', 'ProductRelated', 'ProductRelated_Duration',\n",
        "       'BounceRates', 'ExitRates', 'PageValues', 'SpecialDay']\n",
        "\n",
        "p_numeric_features = ['Administrative', 'Administrative_Duration', 'Informational',\n",
        "       'Informational_Duration', 'ProductRelated', 'ProductRelated_Duration','BounceRates',\n",
        "       'ExitRates', 'PageValues', 'SpecialDay']\n",
        "\n",
        "rf_numeric_features = ['Administrative', 'Administrative_Duration',\n",
        "       'Informational_Duration', 'ProductRelated', 'ProductRelated_Duration',\n",
        "       'BounceRates', 'ExitRates', 'PageValues']\n",
        "\n",
        "cat_features = [col for col in X_train if col not in numeric_features]\n",
        "p_cat_features = [col for col in X_p_train if col not in numeric_features]\n",
        "rf_cat_features = [col for col in X_rf_train if col not in numeric_features]"
      ],
      "metadata": {
        "id": "_6s2JT65Ie7s"
      },
      "execution_count": 11,
      "outputs": []
    },
    {
      "cell_type": "markdown",
      "source": [
        "Changing num_estimators\n",
        "\n",
        "Modified Functions to include oversampling/scaling within the function\n",
        "\n",
        "Pearson Correlation Filtered Data"
      ],
      "metadata": {
        "id": "yGqrhqFwIhu-"
      }
    },
    {
      "cell_type": "code",
      "source": [
        "%memit RFClassifierMOD(X_p_train, y_p_train, X_p_test, y_p_test, p_numeric_features, p_cat_features, 100)"
      ],
      "metadata": {
        "colab": {
          "base_uri": "https://localhost:8080/"
        },
        "id": "akJmhJkeImU4",
        "outputId": "6d868825-70f7-4666-c6be-71f34785d0cd"
      },
      "execution_count": 12,
      "outputs": [
        {
          "output_type": "stream",
          "name": "stdout",
          "text": [
            "              precision    recall  f1-score   support\n",
            "\n",
            "           0       0.95      0.92      0.93      3122\n",
            "           1       0.62      0.75      0.68       577\n",
            "\n",
            "    accuracy                           0.89      3699\n",
            "   macro avg       0.79      0.83      0.81      3699\n",
            "weighted avg       0.90      0.89      0.89      3699\n",
            "\n",
            "[[2860  262]\n",
            " [ 144  433]]\n",
            "3.353224814999999\n",
            "peak memory: 315.92 MiB, increment: 20.98 MiB\n"
          ]
        }
      ]
    },
    {
      "cell_type": "code",
      "source": [
        "%memit RFClassifierMOD(X_p_train, y_p_train, X_p_test, y_p_test, p_numeric_features, p_cat_features, 500)"
      ],
      "metadata": {
        "colab": {
          "base_uri": "https://localhost:8080/"
        },
        "id": "Vf1Tj6VtIqrS",
        "outputId": "c3cf3ed6-c702-4380-c69d-b7a2d6d0cbe9"
      },
      "execution_count": 13,
      "outputs": [
        {
          "output_type": "stream",
          "name": "stdout",
          "text": [
            "              precision    recall  f1-score   support\n",
            "\n",
            "           0       0.95      0.91      0.93      3122\n",
            "           1       0.62      0.76      0.68       577\n",
            "\n",
            "    accuracy                           0.89      3699\n",
            "   macro avg       0.79      0.84      0.81      3699\n",
            "weighted avg       0.90      0.89      0.89      3699\n",
            "\n",
            "[[2853  269]\n",
            " [ 138  439]]\n",
            "16.845374238\n",
            "peak memory: 390.70 MiB, increment: 74.78 MiB\n"
          ]
        }
      ]
    },
    {
      "cell_type": "code",
      "source": [
        "%memit RFClassifierMOD(X_p_train, y_p_train, X_p_test, y_p_test, p_numeric_features, p_cat_features, 1000)"
      ],
      "metadata": {
        "colab": {
          "base_uri": "https://localhost:8080/"
        },
        "id": "Zue0w2MJIuDT",
        "outputId": "390f782c-032e-46a7-cb88-37757ca483ee"
      },
      "execution_count": 14,
      "outputs": [
        {
          "output_type": "stream",
          "name": "stdout",
          "text": [
            "              precision    recall  f1-score   support\n",
            "\n",
            "           0       0.95      0.92      0.93      3122\n",
            "           1       0.63      0.76      0.68       577\n",
            "\n",
            "    accuracy                           0.89      3699\n",
            "   macro avg       0.79      0.84      0.81      3699\n",
            "weighted avg       0.90      0.89      0.90      3699\n",
            "\n",
            "[[2862  260]\n",
            " [ 141  436]]\n",
            "30.860551710999992\n",
            "peak memory: 486.32 MiB, increment: 112.14 MiB\n"
          ]
        }
      ]
    },
    {
      "cell_type": "markdown",
      "source": [
        "K-Fold Crossvalidation\n",
        "\n",
        "Random forest features"
      ],
      "metadata": {
        "id": "X_WdX3MTIyuR"
      }
    },
    {
      "cell_type": "code",
      "source": [
        "%memit RFClassifierKFold(X_rf_train, y_rf_train, X_rf_test, y_rf_test, rf_numeric_features, rf_cat_features, 100, 5)"
      ],
      "metadata": {
        "colab": {
          "base_uri": "https://localhost:8080/"
        },
        "id": "e1AEsSzxI0Uo",
        "outputId": "cd3febf5-bf5f-4546-cf2d-0a3440aba0f2"
      },
      "execution_count": 15,
      "outputs": [
        {
          "output_type": "stream",
          "name": "stdout",
          "text": [
            "              precision    recall  f1-score   support\n",
            "\n",
            "           0       0.92      0.96      0.94      7285\n",
            "           1       0.73      0.56      0.63      1346\n",
            "\n",
            "    accuracy                           0.90      8631\n",
            "   macro avg       0.83      0.76      0.79      8631\n",
            "weighted avg       0.89      0.90      0.89      8631\n",
            "\n",
            "13.261781753999998\n",
            "peak memory: 426.45 MiB, increment: 6.75 MiB\n"
          ]
        }
      ]
    },
    {
      "cell_type": "code",
      "source": [
        "%memit RFClassifierKFold(X_rf_train, y_rf_train, X_rf_test, y_rf_test, rf_numeric_features, rf_cat_features, 500, 5)"
      ],
      "metadata": {
        "colab": {
          "base_uri": "https://localhost:8080/"
        },
        "id": "_tFc6CKiI4cj",
        "outputId": "191ff0e2-c23e-4402-bb60-052115b949cd"
      },
      "execution_count": 16,
      "outputs": [
        {
          "output_type": "stream",
          "name": "stdout",
          "text": [
            "              precision    recall  f1-score   support\n",
            "\n",
            "           0       0.92      0.96      0.94      7285\n",
            "           1       0.74      0.57      0.65      1346\n",
            "\n",
            "    accuracy                           0.90      8631\n",
            "   macro avg       0.83      0.77      0.79      8631\n",
            "weighted avg       0.90      0.90      0.90      8631\n",
            "\n",
            "57.42371576800001\n",
            "peak memory: 426.61 MiB, increment: 0.16 MiB\n"
          ]
        }
      ]
    },
    {
      "cell_type": "code",
      "source": [
        "%memit RFClassifierKFold(X_rf_train, y_rf_train, X_rf_test, y_rf_test, rf_numeric_features, rf_cat_features, 1000, 5)"
      ],
      "metadata": {
        "colab": {
          "base_uri": "https://localhost:8080/"
        },
        "id": "y_U6Qoy4I7sR",
        "outputId": "0c5ae112-d981-4175-963c-f111b66f0f5d"
      },
      "execution_count": 17,
      "outputs": [
        {
          "output_type": "stream",
          "name": "stdout",
          "text": [
            "              precision    recall  f1-score   support\n",
            "\n",
            "           0       0.92      0.96      0.94      7285\n",
            "           1       0.74      0.57      0.64      1346\n",
            "\n",
            "    accuracy                           0.90      8631\n",
            "   macro avg       0.83      0.77      0.79      8631\n",
            "weighted avg       0.90      0.90      0.90      8631\n",
            "\n",
            "124.63493656699998\n",
            "peak memory: 426.93 MiB, increment: 0.32 MiB\n"
          ]
        }
      ]
    },
    {
      "cell_type": "code",
      "source": [
        "%memit RFClassifierKFold(X_rf_train, y_rf_train, X_rf_test, y_rf_test, rf_numeric_features, rf_cat_features, 100, 10)"
      ],
      "metadata": {
        "colab": {
          "base_uri": "https://localhost:8080/"
        },
        "id": "NI8IkOK3KL_U",
        "outputId": "abd14033-f1e0-4b7c-c68c-d659d87c9a57"
      },
      "execution_count": 19,
      "outputs": [
        {
          "output_type": "stream",
          "name": "stdout",
          "text": [
            "              precision    recall  f1-score   support\n",
            "\n",
            "           0       0.92      0.97      0.94      7285\n",
            "           1       0.75      0.57      0.64      1346\n",
            "\n",
            "    accuracy                           0.90      8631\n",
            "   macro avg       0.84      0.77      0.79      8631\n",
            "weighted avg       0.90      0.90      0.90      8631\n",
            "\n",
            "25.94487090199999\n",
            "peak memory: 427.60 MiB, increment: 0.30 MiB\n"
          ]
        }
      ]
    },
    {
      "cell_type": "code",
      "source": [
        "%memit RFClassifierKFold(X_rf_train, y_rf_train, X_rf_test, y_rf_test, rf_numeric_features, rf_cat_features, 100, 50)"
      ],
      "metadata": {
        "colab": {
          "base_uri": "https://localhost:8080/"
        },
        "id": "9qME3AO4KMoE",
        "outputId": "98c888eb-174e-48d3-fd01-49411caf4775"
      },
      "execution_count": 18,
      "outputs": [
        {
          "output_type": "stream",
          "name": "stdout",
          "text": [
            "              precision    recall  f1-score   support\n",
            "\n",
            "           0       0.92      0.97      0.94      7285\n",
            "           1       0.75      0.57      0.65      1346\n",
            "\n",
            "    accuracy                           0.90      8631\n",
            "   macro avg       0.84      0.77      0.80      8631\n",
            "weighted avg       0.90      0.90      0.90      8631\n",
            "\n",
            "144.406960797\n",
            "peak memory: 427.30 MiB, increment: 0.37 MiB\n"
          ]
        }
      ]
    },
    {
      "cell_type": "markdown",
      "source": [
        "Time-Series Crossvalidation\n",
        "Random Forest features"
      ],
      "metadata": {
        "id": "Xmz__7n3KQ6b"
      }
    },
    {
      "cell_type": "code",
      "source": [
        "%memit RFClassifierTS(X_rf_train, y_rf_train, X_rf_test, y_rf_test, rf_numeric_features, rf_cat_features, 100, 5)"
      ],
      "metadata": {
        "colab": {
          "base_uri": "https://localhost:8080/"
        },
        "id": "Xj3ZtKhUKR11",
        "outputId": "101e4a91-c920-4fad-e94b-efeacbb10b48"
      },
      "execution_count": 20,
      "outputs": [
        {
          "output_type": "stream",
          "name": "stdout",
          "text": [
            "              precision    recall  f1-score   support\n",
            "\n",
            "           0       0.92      0.96      0.94      6066\n",
            "           1       0.73      0.56      0.63      1124\n",
            "\n",
            "    accuracy                           0.90      7190\n",
            "   macro avg       0.82      0.76      0.79      7190\n",
            "weighted avg       0.89      0.90      0.89      7190\n",
            "\n",
            "7.91930778599999\n",
            "peak memory: 427.64 MiB, increment: 0.04 MiB\n"
          ]
        }
      ]
    },
    {
      "cell_type": "code",
      "source": [
        "%memit RFClassifierTS(X_rf_train, y_rf_train, X_rf_test, y_rf_test, rf_numeric_features, rf_cat_features, 500, 5)"
      ],
      "metadata": {
        "colab": {
          "base_uri": "https://localhost:8080/"
        },
        "id": "yeJP_vKbKW_Q",
        "outputId": "32d71279-26b9-4739-8f82-0f1463c21b92"
      },
      "execution_count": 21,
      "outputs": [
        {
          "output_type": "stream",
          "name": "stdout",
          "text": [
            "              precision    recall  f1-score   support\n",
            "\n",
            "           0       0.92      0.96      0.94      6066\n",
            "           1       0.73      0.57      0.64      1124\n",
            "\n",
            "    accuracy                           0.90      7190\n",
            "   macro avg       0.83      0.77      0.79      7190\n",
            "weighted avg       0.89      0.90      0.90      7190\n",
            "\n",
            "37.57566714400002\n",
            "peak memory: 427.64 MiB, increment: 0.00 MiB\n"
          ]
        }
      ]
    },
    {
      "cell_type": "code",
      "source": [
        "%memit RFClassifierTS(X_rf_train, y_rf_train, X_rf_test, y_rf_test, rf_numeric_features, rf_cat_features, 1000, 5)"
      ],
      "metadata": {
        "colab": {
          "base_uri": "https://localhost:8080/"
        },
        "id": "E6p9Ri3yKXfS",
        "outputId": "e58c8e42-c7c2-4457-915b-9fddb8bbf960"
      },
      "execution_count": 22,
      "outputs": [
        {
          "output_type": "stream",
          "name": "stdout",
          "text": [
            "              precision    recall  f1-score   support\n",
            "\n",
            "           0       0.92      0.96      0.94      6066\n",
            "           1       0.72      0.58      0.64      1124\n",
            "\n",
            "    accuracy                           0.90      7190\n",
            "   macro avg       0.82      0.77      0.79      7190\n",
            "weighted avg       0.89      0.90      0.89      7190\n",
            "\n",
            "74.09613502299999\n",
            "peak memory: 427.64 MiB, increment: 0.00 MiB\n"
          ]
        }
      ]
    },
    {
      "cell_type": "code",
      "source": [
        "%memit RFClassifierTS(X_rf_train, y_rf_train, X_rf_test, y_rf_test, rf_numeric_features, rf_cat_features, 100, 10)"
      ],
      "metadata": {
        "colab": {
          "base_uri": "https://localhost:8080/"
        },
        "id": "ULWhbl8JKaAH",
        "outputId": "90dacf64-11a1-43f4-8df9-93788fb9ebaa"
      },
      "execution_count": 23,
      "outputs": [
        {
          "output_type": "stream",
          "name": "stdout",
          "text": [
            "              precision    recall  f1-score   support\n",
            "\n",
            "           0       0.92      0.96      0.94      6622\n",
            "           1       0.73      0.55      0.63      1218\n",
            "\n",
            "    accuracy                           0.90      7840\n",
            "   macro avg       0.83      0.76      0.79      7840\n",
            "weighted avg       0.89      0.90      0.89      7840\n",
            "\n",
            "15.481719282999961\n",
            "peak memory: 427.65 MiB, increment: 0.00 MiB\n"
          ]
        }
      ]
    },
    {
      "cell_type": "code",
      "source": [
        "%memit RFClassifierTS(X_rf_train, y_rf_train, X_rf_test, y_rf_test, rf_numeric_features, rf_cat_features, 100, 50)"
      ],
      "metadata": {
        "colab": {
          "base_uri": "https://localhost:8080/"
        },
        "id": "0kgqJf1PKcxM",
        "outputId": "132bccc7-9d79-45da-9d0b-c45088aad38b"
      },
      "execution_count": 24,
      "outputs": [
        {
          "output_type": "stream",
          "name": "stdout",
          "text": [
            "              precision    recall  f1-score   support\n",
            "\n",
            "           0       0.92      0.96      0.94      7135\n",
            "           1       0.74      0.56      0.64      1315\n",
            "\n",
            "    accuracy                           0.90      8450\n",
            "   macro avg       0.83      0.76      0.79      8450\n",
            "weighted avg       0.89      0.90      0.90      8450\n",
            "\n",
            "76.06521096400002\n",
            "peak memory: 427.69 MiB, increment: 0.04 MiB\n"
          ]
        }
      ]
    }
  ]
}